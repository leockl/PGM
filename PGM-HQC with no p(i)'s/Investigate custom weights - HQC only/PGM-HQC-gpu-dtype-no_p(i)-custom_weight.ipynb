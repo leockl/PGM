{
 "cells": [
  {
   "cell_type": "code",
   "execution_count": 1,
   "metadata": {
    "colab": {
     "base_uri": "https://localhost:8080/"
    },
    "id": "alr3D2GsAWVY",
    "outputId": "ed16d257-b39e-4f22-cc21-cd35150ec7ab"
   },
   "outputs": [
    {
     "name": "stdout",
     "output_type": "stream",
     "text": [
      "Collecting scikit-learn\n",
      "\u001b[?25l  Downloading https://files.pythonhosted.org/packages/5c/a1/273def87037a7fb010512bbc5901c31cfddfca8080bc63b42b26e3cc55b3/scikit_learn-0.23.2-cp36-cp36m-manylinux1_x86_64.whl (6.8MB)\n",
      "\u001b[K     |████████████████████████████████| 6.8MB 11.3MB/s \n",
      "\u001b[?25hCollecting threadpoolctl>=2.0.0\n",
      "  Downloading https://files.pythonhosted.org/packages/f7/12/ec3f2e203afa394a149911729357aa48affc59c20e2c1c8297a60f33f133/threadpoolctl-2.1.0-py3-none-any.whl\n",
      "Requirement already satisfied, skipping upgrade: scipy>=0.19.1 in /usr/local/lib/python3.6/dist-packages (from scikit-learn) (1.4.1)\n",
      "Requirement already satisfied, skipping upgrade: numpy>=1.13.3 in /usr/local/lib/python3.6/dist-packages (from scikit-learn) (1.18.5)\n",
      "Requirement already satisfied, skipping upgrade: joblib>=0.11 in /usr/local/lib/python3.6/dist-packages (from scikit-learn) (0.17.0)\n",
      "Installing collected packages: threadpoolctl, scikit-learn\n",
      "  Found existing installation: scikit-learn 0.22.2.post1\n",
      "    Uninstalling scikit-learn-0.22.2.post1:\n",
      "      Successfully uninstalled scikit-learn-0.22.2.post1\n",
      "Successfully installed scikit-learn-0.23.2 threadpoolctl-2.1.0\n"
     ]
    }
   ],
   "source": [
    "# Update scikit-learn to lastest version in Google Colab\n",
    "!pip install --upgrade scikit-learn"
   ]
  },
  {
   "cell_type": "code",
   "execution_count": null,
   "metadata": {
    "id": "z_iUdw4jA8mP"
   },
   "outputs": [],
   "source": [
    "### This is a GPU implementation for the HQC classifier using Scikit-learn's methods, but with PyTorch as the backend. ###"
   ]
  },
  {
   "cell_type": "code",
   "execution_count": null,
   "metadata": {
    "id": "R0KuCiypA8fQ"
   },
   "outputs": [],
   "source": [
    "# I have implemented the code below in such a way that you would only need to input X and y as numpy arrays and the\n",
    "# output y_hat would also be a numpy array (rather than PyTorch tensors). This would make it easier to use the package\n",
    "# below with minimal knowledge of PyTorch tensors.\n",
    "\n",
    "# Take note of the parameter n_splits, where the implementation of n_splits now is different to the one in the CPU case.\n",
    "# Please read the description of n_splits below."
   ]
  },
  {
   "cell_type": "code",
   "execution_count": 2,
   "metadata": {
    "id": "nzFSqEy_AtUa"
   },
   "outputs": [],
   "source": [
    "import numpy as np\n",
    "from sklearn.base import BaseEstimator, ClassifierMixin\n",
    "from sklearn.utils.validation import check_is_fitted\n",
    "from sklearn.utils.multiclass import check_classification_targets\n",
    "import torch\n",
    "from torch.nn.functional import normalize\n",
    "from scipy import linalg\n",
    "\n",
    "class PGMHQC_gpu_dtype(BaseEstimator, ClassifierMixin):\n",
    "    \"\"\"The Pretty Good Measurement (PGM) - Helstrom Quantum Centroid (HQC) classifier is a \n",
    "    quantum-inspired supervised classification approach for data with multiple classes.\n",
    "                         \n",
    "    Parameters\n",
    "    ----------\n",
    "    rescale : int or float, default = 1\n",
    "        The dataset rescaling factor. A parameter used for rescaling the dataset. \n",
    "    encoding : str, default = 'amplit'\n",
    "        The encoding method used to encode vectors into quantum densities. Possible values:\n",
    "        'amplit', 'stereo'. 'amplit' means using the amplitude encoding method. 'stereo' means \n",
    "        using the inverse of the standard stereographic projection encoding method. Default set \n",
    "        to 'amplit'.\n",
    "    n_copies : int, default = 1\n",
    "        The number of copies to take for each quantum density. This is equivalent to taking \n",
    "        the n-fold Kronecker tensor product for each quantum density.\n",
    "    measure : str, default = 'pgm'\n",
    "        The measurement used to distinguish between quantum states. Possible values: 'pgm', \n",
    "        'hels'. The value 'pgm' stands for \"Pretty Good Measurement\", 'hels' stands for \n",
    "        \"Helstrom measurement\" (applicable only for binary classification). Default set to \n",
    "        'pgm'. \n",
    "    class_wgt : str, default = None        \n",
    "        Applicable only when \"Helstrom measurement\" is selected. This is the class weights \n",
    "        assigned to the Quantum Helstrom observable terms. Possible values: 'equi', 'weighted', \n",
    "        'custom', None. 'equi' means assigning equal weights of 1/2 (equiprobable) to the two terms in \n",
    "        the Quantum Helstrom observable. 'weighted' means assigning weights equal to the \n",
    "        proportion of the number of rows in each class to the two terms in the Quantum Helstrom \n",
    "        observable. 'custom' means selecting your own custom weights. When using \"Pretty Good Measurement\", \n",
    "        specify class_wgt = None. Default set to None.  \n",
    "    custom_weight : float, default = None\n",
    "        Weight values given to class with index 0 when class_wgt = 'custom' is selected. Default set to None.\n",
    "    n_splits : int, default = 1\n",
    "        The number of subset splits performed on the input dataset row-wise and on the number \n",
    "        of eigenvalues/eigenvectors of the Quantum Helstrom observable for optimal speed \n",
    "        performance. If 1 is given, no splits are performed. For optimal speed, recommend \n",
    "        using small values as close to 1 as possible. If memory blow-out occurs, increase \n",
    "        n_splits.\n",
    "    dtype : torch.float32 or torch.float64, default = torch.float64\n",
    "        The float datatype used for the elements in the Pytorch tensor dataset. Datatype has to\n",
    "        be of float to ensure calculations are done in float rather than integer. To achieve\n",
    "        higher n_copies without memory blow-out issues, reduce float precision, which may or may   \n",
    "        not affect accuracy in a significant way.\n",
    "    \n",
    "    Attributes\n",
    "    ----------\n",
    "    classes_ : ndarray, shape (n_classes,)\n",
    "        Sorted binary classes. Stored in CPU.\n",
    "    qcentroids_ : tensor, size (n_classes, (n_features + 1)**n_copies, (n_features + 1)**n_copies)\n",
    "        Quantum Centroids for each class. Stored in GPU.\n",
    "    pgms_ : tensor, shape (n_classes, (n_features + 1)**n_copies, (n_features + 1)**n_copies)\n",
    "        Pretty Good Measurement. Stored in GPU.\n",
    "    hels_obs_ : tensor, size ((n_features + 1)**n_copies, (n_features + 1)**n_copies)\n",
    "        Quantum Helstrom observable. Stored in GPU.\n",
    "    proj_sums_ : tensor, size (n_classes, (n_features + 1)**n_copies, (n_features + 1)**n_copies)\n",
    "        Sum of the projectors of the Quantum Helstrom observable's eigenvectors, which has\n",
    "        corresponding positive and negative eigenvalues respectively. Stored in GPU.\n",
    "    hels_bound_ : float\n",
    "        Helstrom bound is the upper bound of the probability that one can correctly \n",
    "        discriminate whether a quantum density is of which of the two binary quantum density \n",
    "        pattern. Stored in CPU.         \n",
    "    \"\"\"   \n",
    "    # Initialize model hyperparameters\n",
    "    def __init__(self, \n",
    "                 rescale = 1,\n",
    "                 encoding = 'amplit',\n",
    "                 n_copies = 1,  \n",
    "                 measure = 'pgm',\n",
    "                 class_wgt = None, \n",
    "                 custom_weight = None,\n",
    "                 n_splits = 1,\n",
    "                 dtype = torch.float64):\n",
    "        self.rescale = rescale\n",
    "        self.encoding = encoding\n",
    "        self.n_copies = n_copies\n",
    "        self.measure = measure\n",
    "        self.class_wgt = class_wgt\n",
    "        self.custom_weight = custom_weight\n",
    "        self.n_splits = n_splits\n",
    "        self.dtype = dtype\n",
    "        \n",
    "        # Raise error if dtype is not torch.float32 or torch.float64\n",
    "        if self.dtype not in [torch.float32, torch.float64]:\n",
    "            raise ValueError('dtype should be torch.float32 or torch.float64 only')\n",
    "        \n",
    "    \n",
    "    # Function for kronecker tensor product for PyTorch tensors, set as global function\n",
    "    global kronecker\n",
    "    def kronecker(A, B):\n",
    "        return torch.einsum('nab,ncd->nacbd', A, B).view(A.size(0), \n",
    "                                                         A.size(1)*B.size(1), \n",
    "                                                         A.size(2)*B.size(2))\n",
    "    \n",
    "    \n",
    "    # Function for fit\n",
    "    def fit(self, X, y):\n",
    "        \"\"\"Perform PGM-HQC classification with the amplitude and inverse of the standard \n",
    "        stereographic projection encoding methods, with the option to rescale the dataset prior \n",
    "        to encoding.\n",
    "                \n",
    "        Parameters\n",
    "        ----------\n",
    "        X : array-like, shape (n_samples, n_features)\n",
    "            The training input samples. An array of int or float.\n",
    "        y : array-like, shape (n_samples,)\n",
    "            The training input binary target values. An array of str, int or float.\n",
    "            \n",
    "        Returns\n",
    "        -------\n",
    "        self : object\n",
    "            Returns self.\n",
    "        \"\"\"\n",
    "        # Check data in X and y as required by scikit-learn v0.25\n",
    "        X, y = self._validate_data(X, y, reset = True)\n",
    "        \n",
    "        # Ensure target array y is of non-regression type  \n",
    "        # Added as required by sklearn check_estimator\n",
    "        check_classification_targets(y)\n",
    "            \n",
    "        # Store classes and encode y into class indexes\n",
    "        self.classes_, y_class_index = np.unique(y, return_inverse = True)\n",
    "        \n",
    "        # Number of classes, set as global variable\n",
    "        global num_classes\n",
    "        num_classes = len(self.classes_)\n",
    "        \n",
    "        # Raise error when there are more than 2 classes and Helstrom measurement is specified\n",
    "        if num_classes > 2 and self.measure == 'hels':\n",
    "            raise ValueError('Helstrom measurement can be applied for binary classification only')\n",
    "        else:                    \n",
    "            # Cast array X into a floating point tensor to ensure all following calculations below  \n",
    "            # are done in float rather than integer, and send tensor X from CPU to GPU\n",
    "            X = torch.tensor(X, dtype = self.dtype).cuda()\n",
    "        \n",
    "            # Rescale X\n",
    "            X = self.rescale*X\n",
    "        \n",
    "            # Calculate sum of squares of each row (sample) in X\n",
    "            X_sq_sum = (X**2).sum(dim = 1)\n",
    "        \n",
    "            # Number of rows in X\n",
    "            m = X.shape[0]\n",
    "        \n",
    "            # Number of columns in X\n",
    "            n = X.shape[1]\n",
    "        \n",
    "            # Calculate X' using amplitude or inverse of the standard stereographic projection \n",
    "            # encoding method\n",
    "            if self.encoding == 'amplit':\n",
    "                X_prime = normalize(torch.cat([X, torch.ones(m, dtype = self.dtype) \\\n",
    "                                               .reshape(-1, 1).cuda()], dim = 1), p = 2, dim = 1)\n",
    "            elif self.encoding == 'stereo':\n",
    "                X_prime = (1/(X_sq_sum + 1)).reshape(-1, 1) \\\n",
    "                          *(torch.cat((2*X, (X_sq_sum - 1).reshape(-1, 1)), dim = 1))\n",
    "            else:\n",
    "                raise ValueError('encoding should be \"amplit\" or \"stereo\"')\n",
    "        \n",
    "            # Number of columns in X', set as global variable\n",
    "            global n_prime\n",
    "            n_prime = n + 1\n",
    "        \n",
    "            # Function to calculate number of rows (samples) and Quantum Centroids for each class \n",
    "            def qcentroids_terms_func(i):\n",
    "                # Cast array y_class_index into a tensor and send from CPU to GPU\n",
    "                # Determine rows (samples) in X' belonging to either class\n",
    "                X_prime_class = X_prime[torch.CharTensor(y_class_index).cuda() == i]\n",
    "                                    \n",
    "                # Split X' belonging to either class into n_splits subsets, row-wise\n",
    "                # Send tensors from GPU to CPU and cast tensors into arrays, use np.array_split()\n",
    "                # because the equivalent torch.chunk() doesn't behave similarly to np.array_split()\n",
    "                X_prime_class_split_arr = np.array_split(X_prime_class.cpu().numpy(),\n",
    "                                                         indices_or_sections = self.n_splits,\n",
    "                                                         axis = 0)\n",
    "            \n",
    "                # Cast arrays back to tensors and send back from CPU to GPU\n",
    "                X_prime_class_split = [torch.tensor(a, dtype = self.dtype).cuda() \n",
    "                                       for a in X_prime_class_split_arr]\n",
    "            \n",
    "                # Function to calculate sum of quantum densities belonging to each class, \n",
    "                # per subset split\n",
    "                def X_prime_class_split_func(j):\n",
    "                    # Counter for j-th split of X'\n",
    "                    X_prime_class_split_jth = X_prime_class_split[j]\n",
    "                \n",
    "                    # Number of rows (samples) in j-th split of X'\n",
    "                    m_class_split = X_prime_class_split_jth.shape[0]\n",
    "                \n",
    "                    # Encode vectors into quantum densities\n",
    "                    density_chunk = torch.matmul(X_prime_class_split_jth.view(m_class_split, \n",
    "                                                                              n_prime, 1),\n",
    "                                                 X_prime_class_split_jth.view(m_class_split, \n",
    "                                                                              1, n_prime))\n",
    "                \n",
    "                    # Calculate n-fold Kronecker tensor product\n",
    "                    if self.n_copies == 1:\n",
    "                        density_chunk = density_chunk\n",
    "                    else:\n",
    "                        density_chunk_copy = density_chunk\n",
    "                        for b in range(self.n_copies - 1):\n",
    "                            density_chunk = kronecker(density_chunk, density_chunk_copy)\n",
    "                    \n",
    "                    # Calculate sum of quantum densities\n",
    "                    density_chunk_sum = density_chunk.sum(dim = 0)\n",
    "                    return density_chunk_sum\n",
    "\n",
    "                # Number of rows/columns in density matrix, set as global variable\n",
    "                global density_nrow_ncol\n",
    "                density_nrow_ncol = n_prime**self.n_copies\n",
    "            \n",
    "                # Initialize tensor density_class_sum\n",
    "                density_class_sum = torch.zeros([density_nrow_ncol, density_nrow_ncol], \n",
    "                                                dtype = self.dtype).cuda()\n",
    "                for j in range(self.n_splits):\n",
    "                    # Calculate sum of quantum densities belonging to each class\n",
    "                    density_class_sum = density_class_sum + X_prime_class_split_func(j)\n",
    "            \n",
    "                # Number of rows (samples) in X' belonging to each class\n",
    "                m_class = X_prime_class.shape[0]\n",
    "            \n",
    "                # Function to calculate Quantum Centroid belonging to each class\n",
    "                def qcentroid_func():\n",
    "                    # Calculate Quantum Centroid belonging to each class\n",
    "                    # Added ZeroDivisionError as required by sklearn check_estimator\n",
    "                    try:\n",
    "                        qcentroid = (1/m_class)*density_class_sum\n",
    "                    except ZeroDivisionError:\n",
    "                        qcentroid = 0 \n",
    "                    return qcentroid\n",
    "            \n",
    "                # Calculate Quantum Centroid belonging to each class\n",
    "                qcentroid_class = qcentroid_func()\n",
    "                return m_class, qcentroid_class\n",
    "            \n",
    "            # Calculate number of rows (samples) and Quantum Centroids for each class \n",
    "            qcentroids_terms = [qcentroids_terms_func(i) for i in range(num_classes)]\n",
    "            \n",
    "            # Determine Quantum Centroids\n",
    "            self.qcentroids_ = torch.stack([qcentroids_terms[z][1] for z in range(num_classes)], dim = 0)\n",
    "            \n",
    "            # When Pretty Good Measurement is specified\n",
    "            if self.measure == 'pgm':\n",
    "                if self.class_wgt == None:\n",
    "                    # Calculate R\n",
    "                    R = self.qcentroids_.sum(dim = 0)\n",
    "                    \n",
    "                    # Calculate square root of pseudo inverse of R\n",
    "                    # Change datatype of R to float64 as the square root of a matrix calculation is highly \n",
    "                    # senstive to numerical precision/rounding\n",
    "                    # Calculate pseudo inverse of R, send tensor from GPU to CPU and cast into an array\n",
    "                    # Use scipy.linalg.sqrtm() to calculate square root of the pseudo inverse of R because \n",
    "                    # there is no equivalent function in PyTorch which behaves numerically similarly \n",
    "                    # Remove complex part of the matrix created due to numerical precision/rounding issues\n",
    "                    # in machine language\n",
    "                    # Cast array back into a tensor and send back from CPU to GPU\n",
    "                    sqrt_pinv_R = torch.tensor(np.real(linalg.sqrtm(torch.pinverse(torch.as_tensor(R, dtype = \\\n",
    "                                              torch.float64)).cpu().numpy())), dtype = self.dtype).cuda()\n",
    "                    \n",
    "                    # Calculate kernel of R\n",
    "                    # Change datatype of R to float64 as the kernel of a matrix calculation is highly\n",
    "                    # senstive to numerical precision/rounding\n",
    "                    # Send tensor from GPU to CPU and cast into an array, use scipy.linalg.null_space()\n",
    "                    # to calculate kernel because there is no equivalent function in PyTorch which\n",
    "                    # behaves numerically similarly\n",
    "                    # Cast array back into a tensor and send back from CPU to GPU\n",
    "                    ker_R = torch.tensor(linalg.null_space(torch.as_tensor(R, dtype = torch.float64).cpu() \\\n",
    "                                         .numpy()), dtype = self.dtype).cuda()\n",
    "                    \n",
    "                    # Calculate projector of kernel of R\n",
    "                    proj_ker_R = torch.matmul(ker_R, ker_R.T)\n",
    "                    \n",
    "                    # Function to calculate Pretty Good Measurement\n",
    "                    def pgm_func(a):\n",
    "                        return torch.matmul(torch.matmul(sqrt_pinv_R, self.qcentroids_[a]), sqrt_pinv_R) \\\n",
    "                               + (1/num_classes)*proj_ker_R\n",
    "                                               \n",
    "                    # Calculate Pretty Good Measurement\n",
    "                    self.pgms_ = torch.stack([pgm_func(a) for a in range(num_classes)], dim = 0)\n",
    "                else:\n",
    "                    raise ValueError('when using \"pgm\" measure, class_wgt should be None')\n",
    "            # When Helstrom measurement is specified\n",
    "            elif self.measure == 'hels':\n",
    "                # Calculate quantum Helstrom observable\n",
    "                if self.class_wgt == 'equi':\n",
    "                    self.hels_obs_ = 0.5*(self.qcentroids_[0] - self.qcentroids_[1])\n",
    "                elif self.class_wgt == 'weighted':\n",
    "                    self.hels_obs_ = (qcentroids_terms[0][0]/m)*self.qcentroids_[0] \\\n",
    "                                     - (qcentroids_terms[1][0]/m)*self.qcentroids_[1]\n",
    "                elif self.class_wgt == 'custom':\n",
    "                    self.hels_obs_ = self.custom_weight*self.qcentroids_[0] \\\n",
    "                                     - (1 - self.custom_weight)*self.qcentroids_[1]\n",
    "                else:\n",
    "                    raise ValueError('when using \"hels\" measure, class_wgt should be \"equi\" or \"weighted\"')\n",
    "                \n",
    "                # Number of rows/columns in density matrix, set as global variable\n",
    "                global density_nrow_ncol\n",
    "                density_nrow_ncol = self.hels_obs_.shape[0]\n",
    "                \n",
    "                # Calculate eigenvalues w and unit eigenvectors v of the quantum Helstrom observable\n",
    "                w, v = torch.symeig(self.hels_obs_, eigenvectors = True)\n",
    "                \n",
    "                # Length of w\n",
    "                len_w = len(w)\n",
    "                \n",
    "                # Initialize tensor eigval_class\n",
    "                eigval_class = torch.empty_like(w, dtype = self.dtype).cuda()\n",
    "                for d in range(len_w):\n",
    "                    # Create a tensor of 0s and 1s to indicate positive and negative eigenvalues\n",
    "                    # respectively\n",
    "                    if w[d] > 0:\n",
    "                        eigval_class[d] = 0\n",
    "                    else:\n",
    "                        eigval_class[d] = 1\n",
    "                        \n",
    "                # Transpose matrix v containing eigenvectors to row-wise\n",
    "                eigvec = v.T\n",
    "                \n",
    "                # Function to calculate sum of the projectors corresponding to positive and negative\n",
    "                # eigenvalues respectively\n",
    "                def sum_proj_func(e):\n",
    "                    # Split eigenvectors belonging to positive or negative eigenvalues into n_splits subsets\n",
    "                    # Send tensors from GPU to CPU and cast tensors into arrays, use np.array_split()\n",
    "                    # because the equivalent torch.chunk() doesn't behave similarly to np.array_split()\n",
    "                    eigvec_class_split_arr_full = np.array_split(eigvec.cpu().numpy()[eigval_class.cpu() == e],\n",
    "                                                                 indices_or_sections = self.n_splits,\n",
    "                                                                 axis = 0)\n",
    "                    \n",
    "                    # Remove empty rows in eigvec_class_split_arr_full\n",
    "                    eigvec_class_split_arr = [f for f in eigvec_class_split_arr_full if f.shape[0] > 0]\n",
    "                    \n",
    "                    # Cast arrays back to tensors and send back from CPU to GPU\n",
    "                    eigvec_class_split = [torch.tensor(g, dtype = self.dtype).cuda()\n",
    "                                          for g in eigvec_class_split_arr]\n",
    "                    \n",
    "                    # Function to calculate sum of the projectors corresponding to positive and negative\n",
    "                    # eigenvalues respectively, per subset split\n",
    "                    def eigvec_class_split_func(h):\n",
    "                        # Counter for h-th split of eigvec\n",
    "                        eigvec_class_split_hth = eigvec_class_split[h]\n",
    "                        \n",
    "                        # Number of rows (samples) in h-th split of eigvec\n",
    "                        m_eigvec_class_split = eigvec_class_split_hth.shape[0]\n",
    "                        \n",
    "                        # Calculate projectors corresponding to positive and negative eigenvalues\n",
    "                        # respectively, per subset split\n",
    "                        proj_split = torch.matmul(eigvec_class_split_hth.view(m_eigvec_class_split,\n",
    "                                                                              density_nrow_ncol, 1),\n",
    "                                                  eigvec_class_split_hth.view(m_eigvec_class_split,\n",
    "                                                                              1, density_nrow_ncol))\n",
    "                        \n",
    "                        # Calculate sum of projectors\n",
    "                        proj_split_sum = proj_split.sum(dim = 0)\n",
    "                        return proj_split_sum\n",
    "                    \n",
    "                    # Determine length of eigvec_class_split_arr\n",
    "                    eigvec_class_split_arr_len = len(eigvec_class_split_arr)\n",
    "                    \n",
    "                    # Initialize tensor proj_class_sum\n",
    "                    proj_class_sum = torch.zeros([density_nrow_ncol, density_nrow_ncol],\n",
    "                                                 dtype = self.dtype).cuda()\n",
    "                    for h in range(eigvec_class_split_arr_len):\n",
    "                        # Calculate sum of the projectors corresponding to positive and negative eigenvalues\n",
    "                        # respectively\n",
    "                        proj_class_sum = proj_class_sum + eigvec_class_split_func(h)\n",
    "                    return proj_class_sum\n",
    "                \n",
    "                # Calculate sum of the projectors corresponding to positive and negative eigenvalues\n",
    "                # respectively\n",
    "                self.proj_sums_ = torch.stack([sum_proj_func(0), sum_proj_func(1)], dim = 0)\n",
    "                \n",
    "                # Calculate Helstrom bound\n",
    "                self.hels_bound_ = (qcentroids_terms[0][0]/m)*torch.einsum('ij,ji->', self.qcentroids_[0],\n",
    "                                                                           self.proj_sums_[0]).item() \\\n",
    "                                   + (qcentroids_terms[1][0]/m)*torch.einsum('ij,ji->', self.qcentroids_[1],\n",
    "                                                                             self.proj_sums_[1]).item()\n",
    "            # When Pretty Good Measurement or Helstrom measurement is misspecified\n",
    "            else:\n",
    "                raise ValueError('measure should be \"pgm\" or \"hels\"')\n",
    "        return self\n",
    "\n",
    "           \n",
    "    # Function for predict_proba\n",
    "    def predict_proba(self, X):\n",
    "        \"\"\"Performs PMG-HQC classification on X and returns the trace of the dot product of the \n",
    "        densities and the POV (positive operator-valued) measure, i.e. the class probabilities.\n",
    "        \n",
    "        Parameters\n",
    "        ----------\n",
    "        X : array-like, shape (n_samples, n_features)\n",
    "            The input samples. An array of int or float.       \n",
    "            \n",
    "        Returns\n",
    "        -------\n",
    "        trace_matrix : array-like, shape (n_samples, n_classes)\n",
    "            Each column corresponds to the trace of the dot product of the densities and the POV \n",
    "            (positive operator-valued) measure for each class, i.e. each column corresponds to the \n",
    "            class probabilities. An array of float.\n",
    "        \"\"\"\n",
    "        # Send tensors self.pgms_ and self.proj_sums_ from GPU to CPU and cast into an array, and\n",
    "        # check if fit had been called\n",
    "        if self.measure == 'pgm':\n",
    "            self.pgms_arr_ = self.pgms_.cpu().numpy()\n",
    "            check_is_fitted(self, ['pgms_arr_'])\n",
    "        else:\n",
    "            self.proj_sums_arr_ = self.proj_sums_.cpu().numpy()\n",
    "            check_is_fitted(self, ['proj_sums_arr_'])\n",
    "               \n",
    "        # Check data in X as required by scikit-learn v0.25\n",
    "        X = self._validate_data(X, reset = False)\n",
    "                 \n",
    "        # Cast array X into a floating point tensor to ensure all following calculations below  \n",
    "        # are done in float rather than integer, and send tensor X from CPU to GPU\n",
    "        X = torch.tensor(X, dtype = self.dtype).cuda()\n",
    "        \n",
    "        # Rescale X\n",
    "        X = self.rescale*X        \n",
    "        \n",
    "        # Calculate sum of squares of each row (sample) in X\n",
    "        X_sq_sum = (X**2).sum(dim = 1)\n",
    "        \n",
    "        # Number of rows in X\n",
    "        m = X.shape[0]\n",
    "        \n",
    "        # Number of columns in X\n",
    "        n = X.shape[1]\n",
    "\n",
    "        # Calculate X' using amplitude or inverse of the standard stereographic projection \n",
    "        # encoding method\n",
    "        if self.encoding == 'amplit':\n",
    "            X_prime = normalize(torch.cat([X, torch.ones(m, dtype = self.dtype) \\\n",
    "                                           .reshape(-1, 1).cuda()], dim = 1), p = 2, dim = 1)\n",
    "        elif self.encoding == 'stereo':\n",
    "            X_prime = (1/(X_sq_sum + 1)).reshape(-1, 1) \\\n",
    "                      *(torch.cat((2*X, (X_sq_sum - 1).reshape(-1, 1)), dim = 1))\n",
    "        else:\n",
    "            raise ValueError('encoding should be \"amplit\" or \"stereo\"')\n",
    "                       \n",
    "        # Function to calculate trace values for each class\n",
    "        def trace_func(i):\n",
    "            # Split X' into n_splits subsets, row-wise\n",
    "            # Send tensors from GPU to CPU and cast tensors into arrays, use np.array_split()\n",
    "            # because the equivalent torch.chunk() doesn't behave similarly to np.array_split()\n",
    "            X_prime_split_arr_full = np.array_split(X_prime.cpu().numpy(),\n",
    "                                                    indices_or_sections = self.n_splits,\n",
    "                                                    axis = 0)\n",
    "            \n",
    "            # Remove empty rows in X_prime_split_arr_full\n",
    "            X_prime_split_arr = [a for a in X_prime_split_arr_full if a.shape[0] > 0]\n",
    "\n",
    "            # Cast arrays back to tensors and send back from CPU to GPU\n",
    "            X_prime_split = [torch.tensor(q, dtype = self.dtype).cuda() for q in X_prime_split_arr]\n",
    "            \n",
    "            # Function to calculate trace values for each class, per subset split\n",
    "            def trace_split_func(j):\n",
    "                # Counter for j-th split X'\n",
    "                X_prime_split_jth = X_prime_split[j]\n",
    "                \n",
    "                # Number of rows (samples) in j-th split X'\n",
    "                X_prime_split_m = X_prime_split_jth.shape[0]\n",
    "                \n",
    "                # Encode vectors into quantum densities\n",
    "                density_chunk = torch.matmul(X_prime_split_jth.view(X_prime_split_m, n_prime, 1),\n",
    "                                             X_prime_split_jth.view(X_prime_split_m, 1, n_prime))\n",
    "                \n",
    "                # Calculate n-fold Kronecker tensor product\n",
    "                if self.n_copies == 1:\n",
    "                    density_chunk = density_chunk\n",
    "                else:\n",
    "                    density_chunk_copy = density_chunk\n",
    "                    for b in range(self.n_copies - 1):\n",
    "                        density_chunk = kronecker(density_chunk, density_chunk_copy)\n",
    "                        \n",
    "                # When Pretty Good Measurement is specified\n",
    "                if self.measure == 'pgm':\n",
    "                    # Calculate trace of the dot product of density of each row and Pretty Good\n",
    "                    # Measurement\n",
    "                    trace_class_split = torch.einsum('bij,ji->b', density_chunk, self.pgms_[i])\n",
    "                # When Helstrom measurement is specified\n",
    "                else:\n",
    "                    # Calculate trace of the dot product of density of each row and sum of \n",
    "                    # projectors with corresponding positive and negative eigenvalues respectively\n",
    "                    trace_class_split = torch.einsum('bij,ji->b', density_chunk, self.proj_sums_[i])\n",
    "                return trace_class_split\n",
    "            \n",
    "            # Determine length of X_prime_split_arr\n",
    "            X_prime_split_arr_len = len(X_prime_split_arr)\n",
    "\n",
    "            # Initialize tensor trace_class\n",
    "            trace_class = torch.empty([0], dtype = self.dtype).cuda()\n",
    "            for j in range(X_prime_split_arr_len):\n",
    "                # Calculate trace values for each class, per subset split\n",
    "                trace_class = torch.cat([trace_class, trace_split_func(j)], dim = 0)\n",
    "            return trace_class\n",
    "        \n",
    "        # Calculate trace values for each class, send from GPU to CPU and cast into an array\n",
    "        trace_matrix = torch.stack([trace_func(i) for i in range(num_classes)], dim = 1).cpu().numpy()\n",
    "        return trace_matrix\n",
    "                \n",
    "    \n",
    "    # Function for predict\n",
    "    def predict(self, X):\n",
    "        \"\"\"Performs PGM-HQC classification on X and returns the classes.\n",
    "        \n",
    "        Parameters\n",
    "        ----------\n",
    "        X : array-like, shape (n_samples, n_features)\n",
    "            The input samples. An array of int or float.\n",
    "            \n",
    "        Returns\n",
    "        -------\n",
    "        self.classes_[predict_trace_index] : array-like, shape (n_samples,)\n",
    "            The predicted binary classes. An array of str, int or float.\n",
    "        \"\"\"\n",
    "        # Determine column index with the higher trace value in trace_matrix\n",
    "        # Cast predict_proba(X) from an array into a tensor and send from CPU to GPU\n",
    "        # If both columns have the same trace value, returns column index 1, which is different \n",
    "        # to np.argmax() which returns column index 0\n",
    "        predict_trace_index = torch.argmax(torch.tensor(self.predict_proba(X), \n",
    "                                                        dtype = self.dtype).cuda(), axis = 1)\n",
    "        # Returns the predicted binary classes, send tensor from GPU to CPU and cast tensor\n",
    "        # into an array\n",
    "        return self.classes_[predict_trace_index.cpu().numpy()]"
   ]
  },
  {
   "cell_type": "code",
   "execution_count": 91,
   "metadata": {
    "id": "PLWXSAa-_Dwv"
   },
   "outputs": [],
   "source": [
    "# prnn_synth dataset (2 features, 250 rows)\n",
    "import pandas as pd\n",
    "\n",
    "df = pd.read_csv('prnn_synth.tsv', sep='\\t')\n",
    "X = df.drop('target', axis=1).values\n",
    "y = df['target'].values"
   ]
  },
  {
   "cell_type": "code",
   "execution_count": 92,
   "metadata": {
    "colab": {
     "base_uri": "https://localhost:8080/"
    },
    "id": "POw_M9ur_Dwv",
    "outputId": "90674f98-82b0-499a-a54f-23d5ed3e3ba4"
   },
   "outputs": [
    {
     "data": {
      "text/plain": [
       "1    0.5\n",
       "0    0.5\n",
       "Name: target, dtype: float64"
      ]
     },
     "execution_count": 92,
     "metadata": {
      "tags": []
     },
     "output_type": "execute_result"
    }
   ],
   "source": [
    "# Check proportion class imbalance\n",
    "# 50% class index 0\n",
    "df['target'].value_counts(normalize=True)"
   ]
  },
  {
   "cell_type": "code",
   "execution_count": 93,
   "metadata": {
    "id": "2LWaw7Mb_Dwv"
   },
   "outputs": [],
   "source": [
    "from sklearn import model_selection\n",
    "X_train, X_test, y_train, y_test = model_selection.train_test_split(X, y, test_size=0.2, random_state=4)"
   ]
  },
  {
   "cell_type": "code",
   "execution_count": 94,
   "metadata": {
    "id": "6M3AAcAd_Dww"
   },
   "outputs": [],
   "source": [
    "import numpy as np\n",
    "# Create custom_weight (for class index 0) hyperparamter list [0.01, 0.02,...,1.0]\n",
    "custom_weight_list = np.linspace(0.01, 1.0, 100).tolist()"
   ]
  },
  {
   "cell_type": "code",
   "execution_count": 95,
   "metadata": {
    "id": "A93Aco5p_Dww"
   },
   "outputs": [],
   "source": [
    "from sklearn import metrics\n",
    "\n",
    "f1_sc = []\n",
    "for i, wgt in enumerate(custom_weight_list):\n",
    "    # Obtain F1 score for various custom_weight (for class index 0) values\n",
    "    model = PGMHQC_gpu_dtype(rescale=1, n_copies=1, encoding='stereo', measure='hels', class_wgt='custom', custom_weight=wgt, n_splits=1, dtype=torch.float64).fit(X_train, y_train)\n",
    "    y_hat = model.predict(X_test)\n",
    "    f1_sc.append(metrics.f1_score(y_test, y_hat, average='weighted'))"
   ]
  },
  {
   "cell_type": "code",
   "execution_count": 96,
   "metadata": {
    "colab": {
     "base_uri": "https://localhost:8080/",
     "height": 296
    },
    "id": "LCbnPlpc_Dww",
    "outputId": "bbc67cf8-5f21-4678-e293-b081e2365547"
   },
   "outputs": [
    {
     "data": {
      "image/png": "[encoded data removed]",
      "text/plain": [
       "<Figure size 432x288 with 1 Axes>"
      ]
     },
     "metadata": {
      "needs_background": "light",
      "tags": []
     },
     "output_type": "display_data"
    }
   ],
   "source": [
    "import matplotlib.pyplot as plt\n",
    "\n",
    "# Plot F1 score vs. custom_weight (for class index 0) values\n",
    "plt.plot(custom_weight_list, f1_sc)\n",
    "plt.xlabel('custom_weight')\n",
    "plt.ylabel('F1 Score')\n",
    "plt.title('F1 Score vs. custom_weight (for class index 0)')\n",
    "plt.show()"
   ]
  },
  {
   "cell_type": "markdown",
   "metadata": {},
   "source": [
    "**Commentary:** \n",
    "- Since the class cardinality is 50%/50%, the dataset is balanced. \n",
    "- We can see the score performance is quite high at around the vicinity of the a-priori probability/custom_weight = 0.5. \n",
    "- Since the class cardinality is already 50%/50%, this is equivalent to the 'equiprobable' version (ie. the 'class weight method').\n",
    "- The score performance is most optimal at around the vicinity of custom_weight = 0.5, compared to all other custom_weight values to the far left or far right (ie. the score performance is most optimal using the **'weighted'** and/or **'equiprobable'** version)."
   ]
  },
  {
   "cell_type": "code",
   "execution_count": 97,
   "metadata": {
    "colab": {
     "base_uri": "https://localhost:8080/"
    },
    "id": "KDxBJvBzOxn6",
    "outputId": "7eaf09fc-cf24-4a93-d95b-6e49e301c811"
   },
   "outputs": [
    {
     "data": {
      "text/plain": [
       "array([[0.01      , 0.28986301],\n",
       "       [0.02      , 0.28986301],\n",
       "       [0.03      , 0.28986301],\n",
       "       [0.04      , 0.28986301],\n",
       "       [0.05      , 0.28986301],\n",
       "       [0.06      , 0.28986301],\n",
       "       [0.07      , 0.28986301],\n",
       "       [0.08      , 0.28986301],\n",
       "       [0.09      , 0.28986301],\n",
       "       [0.1       , 0.28986301],\n",
       "       [0.11      , 0.28986301],\n",
       "       [0.12      , 0.28986301],\n",
       "       [0.13      , 0.28986301],\n",
       "       [0.14      , 0.28986301],\n",
       "       [0.15      , 0.28986301],\n",
       "       [0.16      , 0.28986301],\n",
       "       [0.17      , 0.28986301],\n",
       "       [0.18      , 0.28986301],\n",
       "       [0.19      , 0.28986301],\n",
       "       [0.2       , 0.28986301],\n",
       "       [0.21      , 0.28986301],\n",
       "       [0.22      , 0.28986301],\n",
       "       [0.23      , 0.28986301],\n",
       "       [0.24      , 0.28986301],\n",
       "       [0.25      , 0.28986301],\n",
       "       [0.26      , 0.28986301],\n",
       "       [0.27      , 0.28986301],\n",
       "       [0.28      , 0.28986301],\n",
       "       [0.29      , 0.33246032],\n",
       "       [0.3       , 0.33246032],\n",
       "       [0.31      , 0.37251093],\n",
       "       [0.32      , 0.82021609],\n",
       "       [0.33      , 0.82021609],\n",
       "       [0.34      , 0.82021609],\n",
       "       [0.35      , 0.82021609],\n",
       "       [0.36      , 0.82021609],\n",
       "       [0.37      , 0.84025641],\n",
       "       [0.38      , 0.84025641],\n",
       "       [0.39      , 0.86016861],\n",
       "       [0.4       , 0.86016861],\n",
       "       [0.41      , 0.86016861],\n",
       "       [0.42      , 0.86016861],\n",
       "       [0.43      , 0.84      ],\n",
       "       [0.44      , 0.84      ],\n",
       "       [0.45      , 0.84      ],\n",
       "       [0.46      , 0.81963636],\n",
       "       [0.47      , 0.81963636],\n",
       "       [0.48      , 0.81963636],\n",
       "       [0.49      , 0.81963636],\n",
       "       [0.5       , 0.79902597],\n",
       "       [0.51      , 0.79902597],\n",
       "       [0.52      , 0.79902597],\n",
       "       [0.53      , 0.81845777],\n",
       "       [0.54      , 0.83789819],\n",
       "       [0.55      , 0.85739562],\n",
       "       [0.56      , 0.85739562],\n",
       "       [0.57      , 0.85739562],\n",
       "       [0.58      , 0.836     ],\n",
       "       [0.59      , 0.85546868],\n",
       "       [0.6       , 0.85546868],\n",
       "       [0.61      , 0.85546868],\n",
       "       [0.62      , 0.83348048],\n",
       "       [0.63      , 0.78784722],\n",
       "       [0.64      , 0.78784722],\n",
       "       [0.65      , 0.78784722],\n",
       "       [0.66      , 0.78784722],\n",
       "       [0.67      , 0.73946524],\n",
       "       [0.68      , 0.73946524],\n",
       "       [0.69      , 0.73946524],\n",
       "       [0.7       , 0.71401176],\n",
       "       [0.71      , 0.6312381 ],\n",
       "       [0.72      , 0.6312381 ],\n",
       "       [0.73      , 0.6312381 ],\n",
       "       [0.74      , 0.6312381 ],\n",
       "       [0.75      , 0.6312381 ],\n",
       "       [0.76      , 0.6312381 ],\n",
       "       [0.77      , 0.6312381 ],\n",
       "       [0.78      , 0.6312381 ],\n",
       "       [0.79      , 0.6312381 ],\n",
       "       [0.8       , 0.60104905],\n",
       "       [0.81      , 0.60104905],\n",
       "       [0.82      , 0.56928571],\n",
       "       [0.83      , 0.3787013 ],\n",
       "       [0.84      , 0.3787013 ],\n",
       "       [0.85      , 0.3787013 ],\n",
       "       [0.86      , 0.3787013 ],\n",
       "       [0.87      , 0.3787013 ],\n",
       "       [0.88      , 0.3787013 ],\n",
       "       [0.89      , 0.3787013 ],\n",
       "       [0.9       , 0.3787013 ],\n",
       "       [0.91      , 0.3787013 ],\n",
       "       [0.92      , 0.3787013 ],\n",
       "       [0.93      , 0.3787013 ],\n",
       "       [0.94      , 0.3787013 ],\n",
       "       [0.95      , 0.3787013 ],\n",
       "       [0.96      , 0.3787013 ],\n",
       "       [0.97      , 0.3787013 ],\n",
       "       [0.98      , 0.3787013 ],\n",
       "       [0.99      , 0.3787013 ],\n",
       "       [1.        , 0.3787013 ]])"
      ]
     },
     "execution_count": 97,
     "metadata": {
      "tags": []
     },
     "output_type": "execute_result"
    }
   ],
   "source": [
    "np.concatenate([np.array(custom_weight_list).reshape(-1,1), np.array(f1_sc).reshape(-1,1)], axis=1)"
   ]
  },
  {
   "cell_type": "code",
   "execution_count": null,
   "metadata": {
    "id": "6EZwNVeP_Dww"
   },
   "outputs": [],
   "source": []
  },
  {
   "cell_type": "code",
   "execution_count": 98,
   "metadata": {
    "id": "PY3qiEVWQiyI"
   },
   "outputs": [],
   "source": [
    "# Create imbalanced dataset by removing rows from target=0\n",
    "df0 = df[df['target']==0]\n",
    "df0_keep = df0.iloc[:85,:]\n",
    "\n",
    "df1 = df[df['target']==1]\n",
    "\n",
    "df_imbalanced = pd.concat([df0_keep, df1], axis=0)\n",
    "X = df_imbalanced.drop('target', axis=1).values\n",
    "y = df_imbalanced['target'].values"
   ]
  },
  {
   "cell_type": "code",
   "execution_count": 99,
   "metadata": {
    "colab": {
     "base_uri": "https://localhost:8080/"
    },
    "id": "LjM1JjqNQi3o",
    "outputId": "2d4b4090-a80a-4d21-ebe1-53fa2cb073bb"
   },
   "outputs": [
    {
     "data": {
      "text/plain": [
       "1    0.595238\n",
       "0    0.404762\n",
       "Name: target, dtype: float64"
      ]
     },
     "execution_count": 99,
     "metadata": {
      "tags": []
     },
     "output_type": "execute_result"
    }
   ],
   "source": [
    "# Check proportion class imbalance \n",
    "# About 40% class index 0\n",
    "df_imbalanced['target'].value_counts(normalize=True)"
   ]
  },
  {
   "cell_type": "code",
   "execution_count": 100,
   "metadata": {
    "id": "jbl4IfMdQi7I"
   },
   "outputs": [],
   "source": [
    "from sklearn import model_selection\n",
    "X_train, X_test, y_train, y_test = model_selection.train_test_split(X, y, test_size=0.2, random_state=4)"
   ]
  },
  {
   "cell_type": "code",
   "execution_count": 101,
   "metadata": {
    "id": "EV9NeGaBQjCP"
   },
   "outputs": [],
   "source": [
    "import numpy as np\n",
    "# Create custom_weight (for class index 0) hyperparamter list [0.01, 0.02,...,1.0]\n",
    "custom_weight_list = np.linspace(0.01, 1.0, 100).tolist()"
   ]
  },
  {
   "cell_type": "code",
   "execution_count": 102,
   "metadata": {
    "id": "kFVxv4jcQjIz"
   },
   "outputs": [],
   "source": [
    "from sklearn import metrics\n",
    "\n",
    "f1_sc = []\n",
    "for i, wgt in enumerate(custom_weight_list):\n",
    "    # Obtain F1 score for various custom_weight (for class index 0) values\n",
    "    model = PGMHQC_gpu_dtype(rescale=1, n_copies=1, encoding='stereo', measure='hels', class_wgt='custom', custom_weight=wgt, n_splits=1, dtype=torch.float64).fit(X_train, y_train)\n",
    "    y_hat = model.predict(X_test)\n",
    "    f1_sc.append(metrics.f1_score(y_test, y_hat, average='weighted'))"
   ]
  },
  {
   "cell_type": "code",
   "execution_count": 103,
   "metadata": {
    "colab": {
     "base_uri": "https://localhost:8080/",
     "height": 296
    },
    "id": "FSlzrZlYQu3C",
    "outputId": "031e2ff4-e89a-4098-bad1-768f6d19fcd7"
   },
   "outputs": [
    {
     "data": {
      "image/png": "[encoded data removed]",
      "text/plain": [
       "<Figure size 432x288 with 1 Axes>"
      ]
     },
     "metadata": {
      "needs_background": "light",
      "tags": []
     },
     "output_type": "display_data"
    }
   ],
   "source": [
    "import matplotlib.pyplot as plt\n",
    "\n",
    "# Plot F1 score vs. custom_weight (for class index 0) values\n",
    "plt.plot(custom_weight_list, f1_sc)\n",
    "plt.xlabel('custom_weight')\n",
    "plt.ylabel('F1 Score')\n",
    "plt.title('F1 Score vs. custom_weight (for class index 0)')\n",
    "plt.show()"
   ]
  },
  {
   "cell_type": "markdown",
   "metadata": {},
   "source": [
    "**Commentary:** \n",
    "- Since the class cardinality is 40%/60%, the dataset is still quite balanced. \n",
    "- We can see the score performance is already quite high at around the vicinity of the a-priori probability/custom_weight = 0.4. \n",
    "- Let's see if we can improve the score performance further by adjusting for the 'equiprobable' version (ie. adjusting for the 'class weight method'). After adjusting for this, the score performance only improved a little at around the vicinity of custom_weight = 0.5. This is as expected since the dataset is already quite balanced.\n",
    "- The score performance is most optimal at around the vicinity of custom_weight = 0.5, compared to all other custom_weight values to the far left or far right (ie. the score performance is most optimal using the **'equiprobable'** version)."
   ]
  },
  {
   "cell_type": "code",
   "execution_count": 104,
   "metadata": {
    "colab": {
     "base_uri": "https://localhost:8080/"
    },
    "id": "P8FjeKScQw6t",
    "outputId": "d4383231-e841-4002-90e3-c4e1301fa6df"
   },
   "outputs": [
    {
     "data": {
      "text/plain": [
       "array([[0.01      , 0.50310559],\n",
       "       [0.02      , 0.50310559],\n",
       "       [0.03      , 0.50310559],\n",
       "       [0.04      , 0.50310559],\n",
       "       [0.05      , 0.50310559],\n",
       "       [0.06      , 0.50310559],\n",
       "       [0.07      , 0.50310559],\n",
       "       [0.08      , 0.50310559],\n",
       "       [0.09      , 0.50310559],\n",
       "       [0.1       , 0.50310559],\n",
       "       [0.11      , 0.50310559],\n",
       "       [0.12      , 0.50310559],\n",
       "       [0.13      , 0.50310559],\n",
       "       [0.14      , 0.50310559],\n",
       "       [0.15      , 0.50310559],\n",
       "       [0.16      , 0.50310559],\n",
       "       [0.17      , 0.50310559],\n",
       "       [0.18      , 0.50310559],\n",
       "       [0.19      , 0.50310559],\n",
       "       [0.2       , 0.50310559],\n",
       "       [0.21      , 0.50310559],\n",
       "       [0.22      , 0.50310559],\n",
       "       [0.23      , 0.50310559],\n",
       "       [0.24      , 0.50310559],\n",
       "       [0.25      , 0.50310559],\n",
       "       [0.26      , 0.50310559],\n",
       "       [0.27      , 0.50310559],\n",
       "       [0.28      , 0.50310559],\n",
       "       [0.29      , 0.50310559],\n",
       "       [0.3       , 0.50310559],\n",
       "       [0.31      , 0.73596059],\n",
       "       [0.32      , 0.76190476],\n",
       "       [0.33      , 0.76190476],\n",
       "       [0.34      , 0.76190476],\n",
       "       [0.35      , 0.76190476],\n",
       "       [0.36      , 0.76190476],\n",
       "       [0.37      , 0.73984871],\n",
       "       [0.38      , 0.73984871],\n",
       "       [0.39      , 0.73984871],\n",
       "       [0.4       , 0.73984871],\n",
       "       [0.41      , 0.73984871],\n",
       "       [0.42      , 0.76476648],\n",
       "       [0.43      , 0.76476648],\n",
       "       [0.44      , 0.76476648],\n",
       "       [0.45      , 0.76476648],\n",
       "       [0.46      , 0.78915202],\n",
       "       [0.47      , 0.81310924],\n",
       "       [0.48      , 0.81310924],\n",
       "       [0.49      , 0.81310924],\n",
       "       [0.5       , 0.81310924],\n",
       "       [0.51      , 0.81310924],\n",
       "       [0.52      , 0.81310924],\n",
       "       [0.53      , 0.81310924],\n",
       "       [0.54      , 0.81310924],\n",
       "       [0.55      , 0.81310924],\n",
       "       [0.56      , 0.81349206],\n",
       "       [0.57      , 0.81349206],\n",
       "       [0.58      , 0.81349206],\n",
       "       [0.59      , 0.81349206],\n",
       "       [0.6       , 0.81349206],\n",
       "       [0.61      , 0.81349206],\n",
       "       [0.62      , 0.81349206],\n",
       "       [0.63      , 0.76626348],\n",
       "       [0.64      , 0.76626348],\n",
       "       [0.65      , 0.71753247],\n",
       "       [0.66      , 0.66666667],\n",
       "       [0.67      , 0.64022364],\n",
       "       [0.68      , 0.61298701],\n",
       "       [0.69      , 0.58485958],\n",
       "       [0.7       , 0.58485958],\n",
       "       [0.71      , 0.55573717],\n",
       "       [0.72      , 0.52550727],\n",
       "       [0.73      , 0.46122449],\n",
       "       [0.74      , 0.46122449],\n",
       "       [0.75      , 0.46122449],\n",
       "       [0.76      , 0.42689076],\n",
       "       [0.77      , 0.44385027],\n",
       "       [0.78      , 0.44385027],\n",
       "       [0.79      , 0.44385027],\n",
       "       [0.8       , 0.36805495],\n",
       "       [0.81      , 0.18796992],\n",
       "       [0.82      , 0.18796992],\n",
       "       [0.83      , 0.18796992],\n",
       "       [0.84      , 0.18796992],\n",
       "       [0.85      , 0.18796992],\n",
       "       [0.86      , 0.18796992],\n",
       "       [0.87      , 0.18796992],\n",
       "       [0.88      , 0.18796992],\n",
       "       [0.89      , 0.18796992],\n",
       "       [0.9       , 0.18796992],\n",
       "       [0.91      , 0.18796992],\n",
       "       [0.92      , 0.18796992],\n",
       "       [0.93      , 0.18796992],\n",
       "       [0.94      , 0.18796992],\n",
       "       [0.95      , 0.18796992],\n",
       "       [0.96      , 0.18796992],\n",
       "       [0.97      , 0.18796992],\n",
       "       [0.98      , 0.18796992],\n",
       "       [0.99      , 0.18796992],\n",
       "       [1.        , 0.18796992]])"
      ]
     },
     "execution_count": 104,
     "metadata": {
      "tags": []
     },
     "output_type": "execute_result"
    }
   ],
   "source": [
    "np.concatenate([np.array(custom_weight_list).reshape(-1,1), np.array(f1_sc).reshape(-1,1)], axis=1)"
   ]
  },
  {
   "cell_type": "code",
   "execution_count": null,
   "metadata": {
    "id": "Bsi-AFD_Qi2m"
   },
   "outputs": [],
   "source": []
  },
  {
   "cell_type": "code",
   "execution_count": 105,
   "metadata": {
    "id": "J3rZw_peO289"
   },
   "outputs": [],
   "source": [
    "# Create imbalanced dataset by removing rows from target=0\n",
    "df0 = df[df['target']==0]\n",
    "df0_keep = df0.iloc[:32,:]\n",
    "\n",
    "df1 = df[df['target']==1]\n",
    "\n",
    "df_imbalanced = pd.concat([df0_keep, df1], axis=0)\n",
    "X = df_imbalanced.drop('target', axis=1).values\n",
    "y = df_imbalanced['target'].values"
   ]
  },
  {
   "cell_type": "code",
   "execution_count": 106,
   "metadata": {
    "colab": {
     "base_uri": "https://localhost:8080/"
    },
    "id": "4McJJijaO3oP",
    "outputId": "a5fb8aad-4893-4aa5-d9b9-5d2f80f07b0a"
   },
   "outputs": [
    {
     "data": {
      "text/plain": [
       "1    0.796178\n",
       "0    0.203822\n",
       "Name: target, dtype: float64"
      ]
     },
     "execution_count": 106,
     "metadata": {
      "tags": []
     },
     "output_type": "execute_result"
    }
   ],
   "source": [
    "# Check proportion class imbalance \n",
    "# About 20% class index 0\n",
    "df_imbalanced['target'].value_counts(normalize=True)"
   ]
  },
  {
   "cell_type": "code",
   "execution_count": 107,
   "metadata": {
    "id": "h5EAHaKBO3ue"
   },
   "outputs": [],
   "source": [
    "from sklearn import model_selection\n",
    "X_train, X_test, y_train, y_test = model_selection.train_test_split(X, y, test_size=0.2, random_state=4)"
   ]
  },
  {
   "cell_type": "code",
   "execution_count": 108,
   "metadata": {
    "id": "Sz-HB6NeO3xh"
   },
   "outputs": [],
   "source": [
    "import numpy as np\n",
    "# Create custom_weight (for class index 0) hyperparamter list [0.01, 0.02,...,1.0]\n",
    "custom_weight_list = np.linspace(0.01, 1.0, 100).tolist()"
   ]
  },
  {
   "cell_type": "code",
   "execution_count": 109,
   "metadata": {
    "id": "6sASIHdFPC1O"
   },
   "outputs": [],
   "source": [
    "from sklearn import metrics\n",
    "\n",
    "f1_sc = []\n",
    "for i, wgt in enumerate(custom_weight_list):\n",
    "    # Obtain F1 score for various custom_weight (for class index 0) values\n",
    "    model = PGMHQC_gpu_dtype(rescale=1, n_copies=1, encoding='stereo', measure='hels', class_wgt='custom', custom_weight=wgt, n_splits=1, dtype=torch.float64).fit(X_train, y_train)\n",
    "    y_hat = model.predict(X_test)\n",
    "    f1_sc.append(metrics.f1_score(y_test, y_hat, average='weighted'))"
   ]
  },
  {
   "cell_type": "code",
   "execution_count": 110,
   "metadata": {
    "colab": {
     "base_uri": "https://localhost:8080/",
     "height": 296
    },
    "id": "99cwzxPyPC5d",
    "outputId": "a7a65ed0-8435-4899-a4d8-16d28b44eea7"
   },
   "outputs": [
    {
     "data": {
      "image/png": "[encoded data removed]",
      "text/plain": [
       "<Figure size 432x288 with 1 Axes>"
      ]
     },
     "metadata": {
      "needs_background": "light",
      "tags": []
     },
     "output_type": "display_data"
    }
   ],
   "source": [
    "import matplotlib.pyplot as plt\n",
    "\n",
    "# Plot F1 score vs. custom_weight (for class index 0) values\n",
    "plt.plot(custom_weight_list, f1_sc)\n",
    "plt.xlabel('custom_weight')\n",
    "plt.ylabel('F1 Score')\n",
    "plt.title('F1 Score vs. custom_weight (for class index 0)')\n",
    "plt.show()"
   ]
  },
  {
   "cell_type": "markdown",
   "metadata": {},
   "source": [
    "**Commentary:** \n",
    "- Since the class cardinality is 20%/80%, the dataset is imbalanced. \n",
    "- We can see the score performance is quite low at around the vicinity of the a-priori probability/custom_weight = 0.2. \n",
    "- Let's see if we can improve the score performance by adjusting for the equiprobable version (ie. adjusting for the 'class weight method'). After adjusting for this, the score performance improved quite a lot at around the vicinity of custom_weight = 0.5. This is as expected since the dataset is imbalanced.\n",
    "- The score performance is most optimal at around the vicinity of custom_weight = 0.5, compared to all other custom_weight values to the far left or far right (ie. the score performance is most optimal using the **'equiprobable'** version)."
   ]
  },
  {
   "cell_type": "code",
   "execution_count": 111,
   "metadata": {
    "colab": {
     "base_uri": "https://localhost:8080/"
    },
    "id": "Euj2juc6PFnV",
    "outputId": "a6acb6c0-271f-437f-b89e-a3a7a42d5b8d"
   },
   "outputs": [
    {
     "data": {
      "text/plain": [
       "array([[0.01      , 0.44240196],\n",
       "       [0.02      , 0.44240196],\n",
       "       [0.03      , 0.44240196],\n",
       "       [0.04      , 0.44240196],\n",
       "       [0.05      , 0.44240196],\n",
       "       [0.06      , 0.44240196],\n",
       "       [0.07      , 0.44240196],\n",
       "       [0.08      , 0.44240196],\n",
       "       [0.09      , 0.44240196],\n",
       "       [0.1       , 0.44240196],\n",
       "       [0.11      , 0.44240196],\n",
       "       [0.12      , 0.44240196],\n",
       "       [0.13      , 0.44240196],\n",
       "       [0.14      , 0.44240196],\n",
       "       [0.15      , 0.44240196],\n",
       "       [0.16      , 0.44240196],\n",
       "       [0.17      , 0.44240196],\n",
       "       [0.18      , 0.44240196],\n",
       "       [0.19      , 0.44240196],\n",
       "       [0.2       , 0.44240196],\n",
       "       [0.21      , 0.44240196],\n",
       "       [0.22      , 0.44240196],\n",
       "       [0.23      , 0.44240196],\n",
       "       [0.24      , 0.44240196],\n",
       "       [0.25      , 0.44240196],\n",
       "       [0.26      , 0.44240196],\n",
       "       [0.27      , 0.44240196],\n",
       "       [0.28      , 0.50928571],\n",
       "       [0.29      , 0.50928571],\n",
       "       [0.3       , 0.50928571],\n",
       "       [0.31      , 0.50928571],\n",
       "       [0.32      , 0.50928571],\n",
       "       [0.33      , 0.90671922],\n",
       "       [0.34      , 0.90671922],\n",
       "       [0.35      , 0.90671922],\n",
       "       [0.36      , 0.90671922],\n",
       "       [0.37      , 0.87599206],\n",
       "       [0.38      , 0.87599206],\n",
       "       [0.39      , 0.87599206],\n",
       "       [0.4       , 0.87599206],\n",
       "       [0.41      , 0.87599206],\n",
       "       [0.42      , 0.84513547],\n",
       "       [0.43      , 0.84513547],\n",
       "       [0.44      , 0.84513547],\n",
       "       [0.45      , 0.84513547],\n",
       "       [0.46      , 0.84513547],\n",
       "       [0.47      , 0.84513547],\n",
       "       [0.48      , 0.84513547],\n",
       "       [0.49      , 0.81397059],\n",
       "       [0.5       , 0.81397059],\n",
       "       [0.51      , 0.81397059],\n",
       "       [0.52      , 0.84451369],\n",
       "       [0.53      , 0.84451369],\n",
       "       [0.54      , 0.84451369],\n",
       "       [0.55      , 0.8125    ],\n",
       "       [0.56      , 0.8125    ],\n",
       "       [0.57      , 0.8125    ],\n",
       "       [0.58      , 0.8125    ],\n",
       "       [0.59      , 0.8125    ],\n",
       "       [0.6       , 0.8125    ],\n",
       "       [0.61      , 0.77975318],\n",
       "       [0.62      , 0.77975318],\n",
       "       [0.63      , 0.74607843],\n",
       "       [0.64      , 0.74607843],\n",
       "       [0.65      , 0.74607843],\n",
       "       [0.66      , 0.71126847],\n",
       "       [0.67      , 0.71126847],\n",
       "       [0.68      , 0.71126847],\n",
       "       [0.69      , 0.71126847],\n",
       "       [0.7       , 0.71126847],\n",
       "       [0.71      , 0.71126847],\n",
       "       [0.72      , 0.71126847],\n",
       "       [0.73      , 0.71126847],\n",
       "       [0.74      , 0.67509921],\n",
       "       [0.75      , 0.63732482],\n",
       "       [0.76      , 0.59767206],\n",
       "       [0.77      , 0.55583333],\n",
       "       [0.78      , 0.55583333],\n",
       "       [0.79      , 0.55583333],\n",
       "       [0.8       , 0.55583333],\n",
       "       [0.81      , 0.55583333],\n",
       "       [0.82      , 0.55583333],\n",
       "       [0.83      , 0.55583333],\n",
       "       [0.84      , 0.55583333],\n",
       "       [0.85      , 0.55583333],\n",
       "       [0.86      , 0.55583333],\n",
       "       [0.87      , 0.23472222],\n",
       "       [0.88      , 0.23472222],\n",
       "       [0.89      , 0.23472222],\n",
       "       [0.9       , 0.23472222],\n",
       "       [0.91      , 0.23472222],\n",
       "       [0.92      , 0.23472222],\n",
       "       [0.93      , 0.23472222],\n",
       "       [0.94      , 0.23472222],\n",
       "       [0.95      , 0.23472222],\n",
       "       [0.96      , 0.23472222],\n",
       "       [0.97      , 0.23472222],\n",
       "       [0.98      , 0.23472222],\n",
       "       [0.99      , 0.23472222],\n",
       "       [1.        , 0.23472222]])"
      ]
     },
     "execution_count": 111,
     "metadata": {
      "tags": []
     },
     "output_type": "execute_result"
    }
   ],
   "source": [
    "np.concatenate([np.array(custom_weight_list).reshape(-1,1), np.array(f1_sc).reshape(-1,1)], axis=1)"
   ]
  },
  {
   "cell_type": "code",
   "execution_count": null,
   "metadata": {
    "id": "Ls1fpfvBO31Y"
   },
   "outputs": [],
   "source": []
  },
  {
   "cell_type": "code",
   "execution_count": 112,
   "metadata": {
    "id": "MgrFdBME_Dww"
   },
   "outputs": [],
   "source": [
    "# Create imbalanced dataset by removing rows from target=0\n",
    "df0 = df[df['target']==0]\n",
    "df0_keep = df0.iloc[:10,:]\n",
    "\n",
    "df1 = df[df['target']==1]\n",
    "\n",
    "df_imbalanced = pd.concat([df0_keep, df1], axis=0)\n",
    "X = df_imbalanced.drop('target', axis=1).values\n",
    "y = df_imbalanced['target'].values"
   ]
  },
  {
   "cell_type": "code",
   "execution_count": 113,
   "metadata": {
    "colab": {
     "base_uri": "https://localhost:8080/"
    },
    "id": "7wicz7v3_Dww",
    "outputId": "16ebf697-fcc4-4f00-e156-bdae954c5cba"
   },
   "outputs": [
    {
     "data": {
      "text/plain": [
       "1    0.925926\n",
       "0    0.074074\n",
       "Name: target, dtype: float64"
      ]
     },
     "execution_count": 113,
     "metadata": {
      "tags": []
     },
     "output_type": "execute_result"
    }
   ],
   "source": [
    "# Check proportion class imbalance\n",
    "# About 7% class index 0\n",
    "df_imbalanced['target'].value_counts(normalize=True)"
   ]
  },
  {
   "cell_type": "code",
   "execution_count": 114,
   "metadata": {
    "id": "j6Kg8qXH_Dwx"
   },
   "outputs": [],
   "source": [
    "from sklearn import model_selection\n",
    "X_train, X_test, y_train, y_test = model_selection.train_test_split(X, y, test_size=0.2, random_state=4)"
   ]
  },
  {
   "cell_type": "code",
   "execution_count": 115,
   "metadata": {
    "id": "su9azOWc_Dwx"
   },
   "outputs": [],
   "source": [
    "import numpy as np\n",
    "# Create custom_weight (for class index 0) hyperparamter list [0.01, 0.02,...,1.0]\n",
    "custom_weight_list = np.linspace(0.01, 1.0, 100).tolist()"
   ]
  },
  {
   "cell_type": "code",
   "execution_count": 116,
   "metadata": {
    "id": "TUktiOWr_Dwx"
   },
   "outputs": [],
   "source": [
    "from sklearn import metrics\n",
    "\n",
    "f1_sc = []\n",
    "for i, wgt in enumerate(custom_weight_list):\n",
    "    # Obtain F1 score for various custom_weight (for class index 0) values\n",
    "    model = PGMHQC_gpu_dtype(rescale=1, n_copies=1, encoding='stereo', measure='hels', class_wgt='custom', custom_weight=wgt, n_splits=1, dtype=torch.float64).fit(X_train, y_train)\n",
    "    y_hat = model.predict(X_test)\n",
    "    f1_sc.append(metrics.f1_score(y_test, y_hat, average='weighted'))"
   ]
  },
  {
   "cell_type": "code",
   "execution_count": 117,
   "metadata": {
    "colab": {
     "base_uri": "https://localhost:8080/",
     "height": 296
    },
    "id": "-gQqNJyX_Dwx",
    "outputId": "e7d28038-6754-46b2-c2b6-5a1823443dae"
   },
   "outputs": [
    {
     "data": {
      "image/png": "[encoded data removed]",
      "text/plain": [
       "<Figure size 432x288 with 1 Axes>"
      ]
     },
     "metadata": {
      "needs_background": "light",
      "tags": []
     },
     "output_type": "display_data"
    }
   ],
   "source": [
    "import matplotlib.pyplot as plt\n",
    "\n",
    "# Plot F1 score vs. custom_weight (for class index 0) values\n",
    "plt.plot(custom_weight_list, f1_sc)\n",
    "plt.xlabel('custom_weight')\n",
    "plt.ylabel('F1 Score')\n",
    "plt.title('F1 Score vs. custom_weight (for class index 0)')\n",
    "plt.show()"
   ]
  },
  {
   "cell_type": "markdown",
   "metadata": {},
   "source": [
    "**Commentary:** \n",
    "- Since the class cardinality is 7%/93%, the dataset is highly imbalanced. \n",
    "- We can see the score performance is already quite high at around the vicinity of the a-priori probability/custom_weight = 0.07. \n",
    "- Let's see if we can improve the score performance further by adjusting for the equiprobable version (ie. adjusting for the 'class weight method'). After adjusting for this, the score performance decrease at around the vicinity of custom_weight = 0.5. This could happen because for this dataset, the dataset could be too highly imbalanced that the 'class weight method' does not help in improving the score performance.\n",
    "- The score performance is most optimal at around the vicinity of custom_weight = 0.07, compared to all other custom_weight values in the middle or far right (ie. the score performance is most optimal using the **'weighted'** version)."
   ]
  },
  {
   "cell_type": "code",
   "execution_count": 118,
   "metadata": {
    "colab": {
     "base_uri": "https://localhost:8080/"
    },
    "id": "20TQRyohC0Q5",
    "outputId": "a8b1b49a-9232-4501-aafd-9c0f0bb9094e"
   },
   "outputs": [
    {
     "data": {
      "text/plain": [
       "array([[0.01      , 0.83660131],\n",
       "       [0.02      , 0.83660131],\n",
       "       [0.03      , 0.83660131],\n",
       "       [0.04      , 0.83660131],\n",
       "       [0.05      , 0.83660131],\n",
       "       [0.06      , 0.83660131],\n",
       "       [0.07      , 0.83660131],\n",
       "       [0.08      , 0.83660131],\n",
       "       [0.09      , 0.83660131],\n",
       "       [0.1       , 0.83660131],\n",
       "       [0.11      , 0.83660131],\n",
       "       [0.12      , 0.83660131],\n",
       "       [0.13      , 0.83660131],\n",
       "       [0.14      , 0.83660131],\n",
       "       [0.15      , 0.83660131],\n",
       "       [0.16      , 0.83660131],\n",
       "       [0.17      , 0.83660131],\n",
       "       [0.18      , 0.83660131],\n",
       "       [0.19      , 0.83660131],\n",
       "       [0.2       , 0.83660131],\n",
       "       [0.21      , 0.83660131],\n",
       "       [0.22      , 0.83660131],\n",
       "       [0.23      , 0.83660131],\n",
       "       [0.24      , 0.83660131],\n",
       "       [0.25      , 0.83660131],\n",
       "       [0.26      , 0.83660131],\n",
       "       [0.27      , 0.83660131],\n",
       "       [0.28      , 0.83660131],\n",
       "       [0.29      , 0.83660131],\n",
       "       [0.3       , 0.83660131],\n",
       "       [0.31      , 0.83660131],\n",
       "       [0.32      , 0.83660131],\n",
       "       [0.33      , 0.83660131],\n",
       "       [0.34      , 0.83660131],\n",
       "       [0.35      , 0.83660131],\n",
       "       [0.36      , 0.83660131],\n",
       "       [0.37      , 0.81212121],\n",
       "       [0.38      , 0.81212121],\n",
       "       [0.39      , 0.81212121],\n",
       "       [0.4       , 0.81212121],\n",
       "       [0.41      , 0.81212121],\n",
       "       [0.42      , 0.81212121],\n",
       "       [0.43      , 0.81212121],\n",
       "       [0.44      , 0.81212121],\n",
       "       [0.45      , 0.78459009],\n",
       "       [0.46      , 0.72795497],\n",
       "       [0.47      , 0.72795497],\n",
       "       [0.48      , 0.72795497],\n",
       "       [0.49      , 0.72795497],\n",
       "       [0.5       , 0.72795497],\n",
       "       [0.51      , 0.72795497],\n",
       "       [0.52      , 0.72795497],\n",
       "       [0.53      , 0.72795497],\n",
       "       [0.54      , 0.72795497],\n",
       "       [0.55      , 0.72795497],\n",
       "       [0.56      , 0.72795497],\n",
       "       [0.57      , 0.72795497],\n",
       "       [0.58      , 0.72795497],\n",
       "       [0.59      , 0.6984127 ],\n",
       "       [0.6       , 0.6984127 ],\n",
       "       [0.61      , 0.6984127 ],\n",
       "       [0.62      , 0.6984127 ],\n",
       "       [0.63      , 0.6984127 ],\n",
       "       [0.64      , 0.6984127 ],\n",
       "       [0.65      , 0.6984127 ],\n",
       "       [0.66      , 0.66780627],\n",
       "       [0.67      , 0.63596491],\n",
       "       [0.68      , 0.63596491],\n",
       "       [0.69      , 0.60272037],\n",
       "       [0.7       , 0.60272037],\n",
       "       [0.71      , 0.60272037],\n",
       "       [0.72      , 0.60272037],\n",
       "       [0.73      , 0.60272037],\n",
       "       [0.74      , 0.60272037],\n",
       "       [0.75      , 0.60272037],\n",
       "       [0.76      , 0.60272037],\n",
       "       [0.77      , 0.53132832],\n",
       "       [0.78      , 0.53132832],\n",
       "       [0.79      , 0.53132832],\n",
       "       [0.8       , 0.53132832],\n",
       "       [0.81      , 0.53132832],\n",
       "       [0.82      , 0.53132832],\n",
       "       [0.83      , 0.53132832],\n",
       "       [0.84      , 0.49281046],\n",
       "       [0.85      , 0.49281046],\n",
       "       [0.86      , 0.49281046],\n",
       "       [0.87      , 0.49281046],\n",
       "       [0.88      , 0.49281046],\n",
       "       [0.89      , 0.49281046],\n",
       "       [0.9       , 0.49281046],\n",
       "       [0.91      , 0.49281046],\n",
       "       [0.92      , 0.49281046],\n",
       "       [0.93      , 0.49281046],\n",
       "       [0.94      , 0.02222222],\n",
       "       [0.95      , 0.02222222],\n",
       "       [0.96      , 0.02222222],\n",
       "       [0.97      , 0.02222222],\n",
       "       [0.98      , 0.02222222],\n",
       "       [0.99      , 0.02222222],\n",
       "       [1.        , 0.02222222]])"
      ]
     },
     "execution_count": 118,
     "metadata": {
      "tags": []
     },
     "output_type": "execute_result"
    }
   ],
   "source": [
    "np.concatenate([np.array(custom_weight_list).reshape(-1,1), np.array(f1_sc).reshape(-1,1)], axis=1)"
   ]
  },
  {
   "cell_type": "code",
   "execution_count": null,
   "metadata": {
    "id": "mp0xf_PxMdQA"
   },
   "outputs": [],
   "source": []
  },
  {
   "cell_type": "code",
   "execution_count": 119,
   "metadata": {
    "id": "ADlbkTsbTNp1"
   },
   "outputs": [],
   "source": [
    "# Create imbalanced dataset by removing rows from target=0\n",
    "df0 = df[df['target']==0]\n",
    "df0_keep = df0.iloc[:4,:]\n",
    "\n",
    "df1 = df[df['target']==1]\n",
    "\n",
    "df_imbalanced = pd.concat([df0_keep, df1], axis=0)\n",
    "X = df_imbalanced.drop('target', axis=1).values\n",
    "y = df_imbalanced['target'].values"
   ]
  },
  {
   "cell_type": "code",
   "execution_count": 120,
   "metadata": {
    "colab": {
     "base_uri": "https://localhost:8080/"
    },
    "id": "6cBCxbChTN0C",
    "outputId": "e35e599b-3e88-4f57-e8d3-a7d7c7e3cad0"
   },
   "outputs": [
    {
     "data": {
      "text/plain": [
       "1    0.968992\n",
       "0    0.031008\n",
       "Name: target, dtype: float64"
      ]
     },
     "execution_count": 120,
     "metadata": {
      "tags": []
     },
     "output_type": "execute_result"
    }
   ],
   "source": [
    "# Check proportion class imbalance\n",
    "# About 3% class index 0\n",
    "df_imbalanced['target'].value_counts(normalize=True)"
   ]
  },
  {
   "cell_type": "code",
   "execution_count": 121,
   "metadata": {
    "id": "s3StkGKrTN4i"
   },
   "outputs": [],
   "source": [
    "from sklearn import model_selection\n",
    "X_train, X_test, y_train, y_test = model_selection.train_test_split(X, y, test_size=0.2, random_state=4)"
   ]
  },
  {
   "cell_type": "code",
   "execution_count": 122,
   "metadata": {
    "id": "ZTq3XP1FTN99"
   },
   "outputs": [],
   "source": [
    "import numpy as np\n",
    "# Create custom_weight (for class index 0) hyperparamter list [0.01, 0.02,...,1.0]\n",
    "custom_weight_list = np.linspace(0.01, 1.0, 100).tolist()"
   ]
  },
  {
   "cell_type": "code",
   "execution_count": 123,
   "metadata": {
    "id": "KPHZvnyuTOBD"
   },
   "outputs": [],
   "source": [
    "from sklearn import metrics\n",
    "\n",
    "f1_sc = []\n",
    "for i, wgt in enumerate(custom_weight_list):\n",
    "    # Obtain F1 score for various custom_weight (for class index 0) values\n",
    "    model = PGMHQC_gpu_dtype(rescale=1, n_copies=1, encoding='stereo', measure='hels', class_wgt='custom', custom_weight=wgt, n_splits=1, dtype=torch.float64).fit(X_train, y_train)\n",
    "    y_hat = model.predict(X_test)\n",
    "    f1_sc.append(metrics.f1_score(y_test, y_hat, average='weighted'))"
   ]
  },
  {
   "cell_type": "code",
   "execution_count": 124,
   "metadata": {
    "colab": {
     "base_uri": "https://localhost:8080/",
     "height": 296
    },
    "id": "PukdWRP1TYOv",
    "outputId": "d4208f99-0947-47f3-9cb7-9071eafde3ed"
   },
   "outputs": [
    {
     "data": {
      "image/png": "[encoded data removed]",
      "text/plain": [
       "<Figure size 432x288 with 1 Axes>"
      ]
     },
     "metadata": {
      "needs_background": "light",
      "tags": []
     },
     "output_type": "display_data"
    }
   ],
   "source": [
    "import matplotlib.pyplot as plt\n",
    "\n",
    "# Plot F1 score vs. custom_weight (for class index 0) values\n",
    "plt.plot(custom_weight_list, f1_sc)\n",
    "plt.xlabel('custom_weight')\n",
    "plt.ylabel('F1 Score')\n",
    "plt.title('F1 Score vs. custom_weight (for class index 0)')\n",
    "plt.show()"
   ]
  },
  {
   "cell_type": "markdown",
   "metadata": {},
   "source": [
    "**Commentary:** \n",
    "- Since the class cardinality is 3%/97%, the dataset is highly imbalanced. \n",
    "- We can see the score performance is already quite high at around the vicinity of the a-priori probability/custom_weight = 0.03. \n",
    "- Let's see if we can improve the score performance further by adjusting for the equiprobable version (ie. adjusting for the 'class weight method'). After adjusting for this, the score performance decrease at around the vicinity of custom_weight = 0.5. This could happen because for this dataset, the dataset could be too highly imbalanced that the 'class weight method' does not help in improving the score performance.\n",
    "- The score performance is most optimal at around the vicinity of custom_weight = 0.03, compared to all other custom_weight values in the middle or far right (ie. the score performance is most optimal using the **'weighted'** version)."
   ]
  },
  {
   "cell_type": "code",
   "execution_count": 125,
   "metadata": {
    "colab": {
     "base_uri": "https://localhost:8080/"
    },
    "id": "v_qp7GKWTYSW",
    "outputId": "0c2ffc44-10a8-4e04-e7b3-a084d4d03a29"
   },
   "outputs": [
    {
     "data": {
      "text/plain": [
       "array([[0.01      , 0.94268477],\n",
       "       [0.02      , 0.94268477],\n",
       "       [0.03      , 0.94268477],\n",
       "       [0.04      , 0.94268477],\n",
       "       [0.05      , 0.94268477],\n",
       "       [0.06      , 0.94268477],\n",
       "       [0.07      , 0.94268477],\n",
       "       [0.08      , 0.94268477],\n",
       "       [0.09      , 0.94268477],\n",
       "       [0.1       , 0.94268477],\n",
       "       [0.11      , 0.94268477],\n",
       "       [0.12      , 0.94268477],\n",
       "       [0.13      , 0.94268477],\n",
       "       [0.14      , 0.94268477],\n",
       "       [0.15      , 0.94268477],\n",
       "       [0.16      , 0.94268477],\n",
       "       [0.17      , 0.94268477],\n",
       "       [0.18      , 0.94268477],\n",
       "       [0.19      , 0.94268477],\n",
       "       [0.2       , 0.94268477],\n",
       "       [0.21      , 0.94268477],\n",
       "       [0.22      , 0.94268477],\n",
       "       [0.23      , 0.94268477],\n",
       "       [0.24      , 0.94268477],\n",
       "       [0.25      , 0.94268477],\n",
       "       [0.26      , 0.94268477],\n",
       "       [0.27      , 0.94268477],\n",
       "       [0.28      , 0.94268477],\n",
       "       [0.29      , 0.94268477],\n",
       "       [0.3       , 0.94268477],\n",
       "       [0.31      , 0.94268477],\n",
       "       [0.32      , 0.94268477],\n",
       "       [0.33      , 0.94268477],\n",
       "       [0.34      , 0.94268477],\n",
       "       [0.35      , 0.94268477],\n",
       "       [0.36      , 0.94268477],\n",
       "       [0.37      , 0.94268477],\n",
       "       [0.38      , 0.94268477],\n",
       "       [0.39      , 0.86568987],\n",
       "       [0.4       , 0.86568987],\n",
       "       [0.41      , 0.86568987],\n",
       "       [0.42      , 0.86568987],\n",
       "       [0.43      , 0.84003497],\n",
       "       [0.44      , 0.84003497],\n",
       "       [0.45      , 0.84003497],\n",
       "       [0.46      , 0.84003497],\n",
       "       [0.47      , 0.84003497],\n",
       "       [0.48      , 0.84003497],\n",
       "       [0.49      , 0.84003497],\n",
       "       [0.5       , 0.84003497],\n",
       "       [0.51      , 0.84003497],\n",
       "       [0.52      , 0.81355595],\n",
       "       [0.53      , 0.81355595],\n",
       "       [0.54      , 0.81355595],\n",
       "       [0.55      , 0.81355595],\n",
       "       [0.56      , 0.81355595],\n",
       "       [0.57      , 0.81355595],\n",
       "       [0.58      , 0.81355595],\n",
       "       [0.59      , 0.81355595],\n",
       "       [0.6       , 0.81355595],\n",
       "       [0.61      , 0.81355595],\n",
       "       [0.62      , 0.78608059],\n",
       "       [0.63      , 0.78608059],\n",
       "       [0.64      , 0.78608059],\n",
       "       [0.65      , 0.78608059],\n",
       "       [0.66      , 0.78608059],\n",
       "       [0.67      , 0.78608059],\n",
       "       [0.68      , 0.78608059],\n",
       "       [0.69      , 0.78608059],\n",
       "       [0.7       , 0.78608059],\n",
       "       [0.71      , 0.78608059],\n",
       "       [0.72      , 0.78608059],\n",
       "       [0.73      , 0.78608059],\n",
       "       [0.74      , 0.78608059],\n",
       "       [0.75      , 0.78608059],\n",
       "       [0.76      , 0.78608059],\n",
       "       [0.77      , 0.78608059],\n",
       "       [0.78      , 0.78608059],\n",
       "       [0.79      , 0.78608059],\n",
       "       [0.8       , 0.75746205],\n",
       "       [0.81      , 0.75746205],\n",
       "       [0.82      , 0.75746205],\n",
       "       [0.83      , 0.75746205],\n",
       "       [0.84      , 0.75746205],\n",
       "       [0.85      , 0.7275641 ],\n",
       "       [0.86      , 0.69625247],\n",
       "       [0.87      , 0.69625247],\n",
       "       [0.88      , 0.69625247],\n",
       "       [0.89      , 0.66338924],\n",
       "       [0.9       , 0.66338924],\n",
       "       [0.91      , 0.66338924],\n",
       "       [0.92      , 0.66338924],\n",
       "       [0.93      , 0.62882883],\n",
       "       [0.94      , 0.62882883],\n",
       "       [0.95      , 0.62882883],\n",
       "       [0.96      , 0.62882883],\n",
       "       [0.97      , 0.62882883],\n",
       "       [0.98      , 0.62882883],\n",
       "       [0.99      , 0.59241453],\n",
       "       [1.        , 0.002849  ]])"
      ]
     },
     "execution_count": 125,
     "metadata": {
      "tags": []
     },
     "output_type": "execute_result"
    }
   ],
   "source": [
    "np.concatenate([np.array(custom_weight_list).reshape(-1,1), np.array(f1_sc).reshape(-1,1)], axis=1)"
   ]
  },
  {
   "cell_type": "code",
   "execution_count": null,
   "metadata": {
    "id": "FZQlwX9RTYWh"
   },
   "outputs": [],
   "source": []
  },
  {
   "cell_type": "code",
   "execution_count": null,
   "metadata": {
    "id": "TX28W0e38R8v"
   },
   "outputs": [],
   "source": []
  },
  {
   "cell_type": "code",
   "execution_count": 138,
   "metadata": {
    "id": "lZRIFbgd8Sb9"
   },
   "outputs": [],
   "source": [
    "# monk1 dataset (6 features, 556 rows)\n",
    "import pandas as pd\n",
    "\n",
    "df = pd.read_csv('monk1.tsv', sep='\\t')\n",
    "X = df.drop('target', axis=1).values\n",
    "y = df['target'].values"
   ]
  },
  {
   "cell_type": "code",
   "execution_count": 139,
   "metadata": {
    "colab": {
     "base_uri": "https://localhost:8080/"
    },
    "id": "AfV3Qn778Syg",
    "outputId": "0f1a2153-7478-4970-d37a-0fe6186a46d5"
   },
   "outputs": [
    {
     "data": {
      "text/plain": [
       "1    0.5\n",
       "0    0.5\n",
       "Name: target, dtype: float64"
      ]
     },
     "execution_count": 139,
     "metadata": {
      "tags": []
     },
     "output_type": "execute_result"
    }
   ],
   "source": [
    "# Check proportion class imbalance\n",
    "# 50% class index 0\n",
    "df['target'].value_counts(normalize=True)"
   ]
  },
  {
   "cell_type": "code",
   "execution_count": 140,
   "metadata": {
    "id": "zhccV6im8S3Z"
   },
   "outputs": [],
   "source": [
    "from sklearn import model_selection\n",
    "X_train, X_test, y_train, y_test = model_selection.train_test_split(X, y, test_size=0.2, random_state=4)"
   ]
  },
  {
   "cell_type": "code",
   "execution_count": 141,
   "metadata": {
    "id": "62jMSQbv8S-Z"
   },
   "outputs": [],
   "source": [
    "import numpy as np\n",
    "# Create custom_weight (for class index 0) hyperparamter list [0.01, 0.02,...,1.0]\n",
    "custom_weight_list = np.linspace(0.01, 1.0, 100).tolist()"
   ]
  },
  {
   "cell_type": "code",
   "execution_count": 142,
   "metadata": {
    "id": "6-wnvCUm8TDO"
   },
   "outputs": [],
   "source": [
    "from sklearn import metrics\n",
    "\n",
    "f1_sc = []\n",
    "for i, wgt in enumerate(custom_weight_list):\n",
    "    # Obtain F1 score for various custom_weight (for class index 0) values\n",
    "    model = PGMHQC_gpu_dtype(rescale=2, n_copies=2, encoding='stereo', measure='hels', class_wgt='custom', custom_weight=wgt, n_splits=1, dtype=torch.float64).fit(X_train, y_train)\n",
    "    y_hat = model.predict(X_test)\n",
    "    f1_sc.append(metrics.f1_score(y_test, y_hat, average='weighted'))"
   ]
  },
  {
   "cell_type": "code",
   "execution_count": 143,
   "metadata": {
    "colab": {
     "base_uri": "https://localhost:8080/",
     "height": 296
    },
    "id": "a18pMptL8TM7",
    "outputId": "13530ed8-926a-4c5d-fb19-05245f20515c"
   },
   "outputs": [
    {
     "data": {
      "image/png": "[encoded data removed]",
      "text/plain": [
       "<Figure size 432x288 with 1 Axes>"
      ]
     },
     "metadata": {
      "needs_background": "light",
      "tags": []
     },
     "output_type": "display_data"
    }
   ],
   "source": [
    "import matplotlib.pyplot as plt\n",
    "\n",
    "# Plot F1 score vs. custom_weight (for class index 0) values\n",
    "plt.plot(custom_weight_list, f1_sc)\n",
    "plt.xlabel('custom_weight')\n",
    "plt.ylabel('F1 Score')\n",
    "plt.title('F1 Score vs. custom_weight (for class index 0)')\n",
    "plt.show()"
   ]
  },
  {
   "cell_type": "markdown",
   "metadata": {},
   "source": [
    "**Commentary:** \n",
    "- Since the class cardinality is 50%/50%, the dataset is balanced. \n",
    "- We can see the score performance is high at around the vicinity of the a-priori probability/custom_weight = 0.5. \n",
    "- Since the class cardinality is already 50%/50%, this is equivalent to the 'equiprobable' version (ie. the 'class weight method').\n",
    "- The score performance is most optimal at around the vicinity of custom_weight = 0.5, compared to all other custom_weight values to the far left or far right (ie. the score performance is most optimal using the **'weighted'** and/or **'equiprobable'** version)."
   ]
  },
  {
   "cell_type": "code",
   "execution_count": 144,
   "metadata": {
    "colab": {
     "base_uri": "https://localhost:8080/"
    },
    "id": "yNUjsM8P8Tjx",
    "outputId": "426b4546-d67d-423b-bca2-df34c54b3d6e"
   },
   "outputs": [
    {
     "data": {
      "text/plain": [
       "array([[0.01      , 0.36351295],\n",
       "       [0.02      , 0.36351295],\n",
       "       [0.03      , 0.36351295],\n",
       "       [0.04      , 0.36351295],\n",
       "       [0.05      , 0.36351295],\n",
       "       [0.06      , 0.36351295],\n",
       "       [0.07      , 0.36351295],\n",
       "       [0.08      , 0.36351295],\n",
       "       [0.09      , 0.36351295],\n",
       "       [0.1       , 0.36351295],\n",
       "       [0.11      , 0.36351295],\n",
       "       [0.12      , 0.36351295],\n",
       "       [0.13      , 0.36351295],\n",
       "       [0.14      , 0.36351295],\n",
       "       [0.15      , 0.36351295],\n",
       "       [0.16      , 0.36351295],\n",
       "       [0.17      , 0.36351295],\n",
       "       [0.18      , 0.36351295],\n",
       "       [0.19      , 0.36351295],\n",
       "       [0.2       , 0.36351295],\n",
       "       [0.21      , 0.36351295],\n",
       "       [0.22      , 0.36351295],\n",
       "       [0.23      , 0.36351295],\n",
       "       [0.24      , 0.36351295],\n",
       "       [0.25      , 0.36351295],\n",
       "       [0.26      , 0.36351295],\n",
       "       [0.27      , 0.36351295],\n",
       "       [0.28      , 0.36351295],\n",
       "       [0.29      , 0.36351295],\n",
       "       [0.3       , 0.36351295],\n",
       "       [0.31      , 0.36351295],\n",
       "       [0.32      , 0.36351295],\n",
       "       [0.33      , 0.36351295],\n",
       "       [0.34      , 0.36351295],\n",
       "       [0.35      , 0.36351295],\n",
       "       [0.36      , 0.36351295],\n",
       "       [0.37      , 0.36351295],\n",
       "       [0.38      , 0.36351295],\n",
       "       [0.39      , 0.36351295],\n",
       "       [0.4       , 0.36351295],\n",
       "       [0.41      , 0.36351295],\n",
       "       [0.42      , 0.36351295],\n",
       "       [0.43      , 0.36351295],\n",
       "       [0.44      , 0.36351295],\n",
       "       [0.45      , 0.39753401],\n",
       "       [0.46      , 0.39281024],\n",
       "       [0.47      , 0.4395393 ],\n",
       "       [0.48      , 0.50470634],\n",
       "       [0.49      , 0.51759508],\n",
       "       [0.5       , 0.61405473],\n",
       "       [0.51      , 0.5449698 ],\n",
       "       [0.52      , 0.51917681],\n",
       "       [0.53      , 0.40178826],\n",
       "       [0.54      , 0.3606133 ],\n",
       "       [0.55      , 0.3606133 ],\n",
       "       [0.56      , 0.34227777],\n",
       "       [0.57      , 0.32341754],\n",
       "       [0.58      , 0.32341754],\n",
       "       [0.59      , 0.32341754],\n",
       "       [0.6       , 0.30400433],\n",
       "       [0.61      , 0.30400433],\n",
       "       [0.62      , 0.30400433],\n",
       "       [0.63      , 0.30400433],\n",
       "       [0.64      , 0.30400433],\n",
       "       [0.65      , 0.30400433],\n",
       "       [0.66      , 0.30400433],\n",
       "       [0.67      , 0.30400433],\n",
       "       [0.68      , 0.30400433],\n",
       "       [0.69      , 0.30400433],\n",
       "       [0.7       , 0.30400433],\n",
       "       [0.71      , 0.30400433],\n",
       "       [0.72      , 0.30400433],\n",
       "       [0.73      , 0.30400433],\n",
       "       [0.74      , 0.30400433],\n",
       "       [0.75      , 0.30400433],\n",
       "       [0.76      , 0.30400433],\n",
       "       [0.77      , 0.30400433],\n",
       "       [0.78      , 0.30400433],\n",
       "       [0.79      , 0.30400433],\n",
       "       [0.8       , 0.30400433],\n",
       "       [0.81      , 0.30400433],\n",
       "       [0.82      , 0.30400433],\n",
       "       [0.83      , 0.30400433],\n",
       "       [0.84      , 0.30400433],\n",
       "       [0.85      , 0.30400433],\n",
       "       [0.86      , 0.30400433],\n",
       "       [0.87      , 0.30400433],\n",
       "       [0.88      , 0.30400433],\n",
       "       [0.89      , 0.30400433],\n",
       "       [0.9       , 0.30400433],\n",
       "       [0.91      , 0.30400433],\n",
       "       [0.92      , 0.30400433],\n",
       "       [0.93      , 0.30400433],\n",
       "       [0.94      , 0.30400433],\n",
       "       [0.95      , 0.30400433],\n",
       "       [0.96      , 0.30400433],\n",
       "       [0.97      , 0.30400433],\n",
       "       [0.98      , 0.30400433],\n",
       "       [0.99      , 0.30400433],\n",
       "       [1.        , 0.30400433]])"
      ]
     },
     "execution_count": 144,
     "metadata": {
      "tags": []
     },
     "output_type": "execute_result"
    }
   ],
   "source": [
    "np.concatenate([np.array(custom_weight_list).reshape(-1,1), np.array(f1_sc).reshape(-1,1)], axis=1)"
   ]
  },
  {
   "cell_type": "code",
   "execution_count": null,
   "metadata": {
    "id": "I1OZTNYh8TJ4"
   },
   "outputs": [],
   "source": []
  },
  {
   "cell_type": "code",
   "execution_count": 149,
   "metadata": {
    "id": "B2yO6xz38SbI"
   },
   "outputs": [],
   "source": [
    "# Create imbalanced dataset by removing rows from target=0\n",
    "df0 = df[df['target']==0]\n",
    "df0_keep = df0.iloc[:120,:]\n",
    "\n",
    "df1 = df[df['target']==1]\n",
    "\n",
    "df_imbalanced = pd.concat([df0_keep, df1], axis=0)\n",
    "X = df_imbalanced.drop('target', axis=1).values\n",
    "y = df_imbalanced['target'].values"
   ]
  },
  {
   "cell_type": "code",
   "execution_count": 150,
   "metadata": {
    "colab": {
     "base_uri": "https://localhost:8080/"
    },
    "id": "E2MNOLjJ8SaS",
    "outputId": "5a15b930-6406-4db1-ddf2-68ef8570854b"
   },
   "outputs": [
    {
     "data": {
      "text/plain": [
       "1    0.698492\n",
       "0    0.301508\n",
       "Name: target, dtype: float64"
      ]
     },
     "execution_count": 150,
     "metadata": {
      "tags": []
     },
     "output_type": "execute_result"
    }
   ],
   "source": [
    "# Check proportion class imbalance \n",
    "# About 30% class index 0\n",
    "df_imbalanced['target'].value_counts(normalize=True)"
   ]
  },
  {
   "cell_type": "code",
   "execution_count": 151,
   "metadata": {
    "id": "G1Bc_x_X8SZW"
   },
   "outputs": [],
   "source": [
    "from sklearn import model_selection\n",
    "X_train, X_test, y_train, y_test = model_selection.train_test_split(X, y, test_size=0.2, random_state=4)"
   ]
  },
  {
   "cell_type": "code",
   "execution_count": 152,
   "metadata": {
    "id": "AVGX_ezg8SYf"
   },
   "outputs": [],
   "source": [
    "import numpy as np\n",
    "# Create custom_weight (for class index 0) hyperparamter list [0.01, 0.02,...,1.0]\n",
    "custom_weight_list = np.linspace(0.01, 1.0, 100).tolist()"
   ]
  },
  {
   "cell_type": "code",
   "execution_count": 153,
   "metadata": {
    "id": "A0b9aqHm8SXc"
   },
   "outputs": [],
   "source": [
    "from sklearn import metrics\n",
    "\n",
    "f1_sc = []\n",
    "for i, wgt in enumerate(custom_weight_list):\n",
    "    # Obtain F1 score for various custom_weight (for class index 0) values\n",
    "    model = PGMHQC_gpu_dtype(rescale=2, n_copies=2, encoding='stereo', measure='hels', class_wgt='custom', custom_weight=wgt, n_splits=1, dtype=torch.float64).fit(X_train, y_train)\n",
    "    y_hat = model.predict(X_test)\n",
    "    f1_sc.append(metrics.f1_score(y_test, y_hat, average='weighted'))"
   ]
  },
  {
   "cell_type": "code",
   "execution_count": 154,
   "metadata": {
    "colab": {
     "base_uri": "https://localhost:8080/",
     "height": 296
    },
    "id": "-DKo5jht8SMp",
    "outputId": "d155c15d-c3e6-4cad-88e9-6355dfde5b9c"
   },
   "outputs": [
    {
     "data": {
      "image/png": "[encoded data removed]",
      "text/plain": [
       "<Figure size 432x288 with 1 Axes>"
      ]
     },
     "metadata": {
      "needs_background": "light",
      "tags": []
     },
     "output_type": "display_data"
    }
   ],
   "source": [
    "import matplotlib.pyplot as plt\n",
    "\n",
    "# Plot F1 score vs. custom_weight (for class index 0) values\n",
    "plt.plot(custom_weight_list, f1_sc)\n",
    "plt.xlabel('custom_weight')\n",
    "plt.ylabel('F1 Score')\n",
    "plt.title('F1 Score vs. custom_weight (for class index 0)')\n",
    "plt.show()"
   ]
  },
  {
   "cell_type": "markdown",
   "metadata": {},
   "source": [
    "**Commentary:** \n",
    "- Since the class cardinality is 30%/70%, the dataset is imbalanced. \n",
    "- We can see the score performance is quite low at around the vicinity of the a-priori probability/custom_weight = 0.3. \n",
    "- Let's see if we can improve the score performance by adjusting for the 'equiprobable' version (ie. adjusting for the 'class weight method'). After adjusting for this, the score performance improved at around the vicinity of custom_weight = 0.5. This is as expected since the dataset is imbalanced.\n",
    "- The score performance is most optimal at around the vicinity of custom_weight = 0.5, compared to all other custom_weight values to the far left or far right (ie. the score performance is most optimal using the **'equiprobable'** version)."
   ]
  },
  {
   "cell_type": "code",
   "execution_count": 155,
   "metadata": {
    "colab": {
     "base_uri": "https://localhost:8080/"
    },
    "id": "1AW3qC6z8SJl",
    "outputId": "bb5c110e-b6ab-4414-f27a-29ba06ea2ab6"
   },
   "outputs": [
    {
     "data": {
      "text/plain": [
       "array([[0.01      , 0.60942029],\n",
       "       [0.02      , 0.60942029],\n",
       "       [0.03      , 0.60942029],\n",
       "       [0.04      , 0.60942029],\n",
       "       [0.05      , 0.60942029],\n",
       "       [0.06      , 0.60942029],\n",
       "       [0.07      , 0.60942029],\n",
       "       [0.08      , 0.60942029],\n",
       "       [0.09      , 0.60942029],\n",
       "       [0.1       , 0.60942029],\n",
       "       [0.11      , 0.60942029],\n",
       "       [0.12      , 0.60942029],\n",
       "       [0.13      , 0.60942029],\n",
       "       [0.14      , 0.60942029],\n",
       "       [0.15      , 0.60942029],\n",
       "       [0.16      , 0.60942029],\n",
       "       [0.17      , 0.60942029],\n",
       "       [0.18      , 0.60942029],\n",
       "       [0.19      , 0.60942029],\n",
       "       [0.2       , 0.60942029],\n",
       "       [0.21      , 0.60942029],\n",
       "       [0.22      , 0.60942029],\n",
       "       [0.23      , 0.60942029],\n",
       "       [0.24      , 0.60942029],\n",
       "       [0.25      , 0.60942029],\n",
       "       [0.26      , 0.60942029],\n",
       "       [0.27      , 0.60942029],\n",
       "       [0.28      , 0.60942029],\n",
       "       [0.29      , 0.60942029],\n",
       "       [0.3       , 0.60942029],\n",
       "       [0.31      , 0.60942029],\n",
       "       [0.32      , 0.60942029],\n",
       "       [0.33      , 0.60942029],\n",
       "       [0.34      , 0.60942029],\n",
       "       [0.35      , 0.60942029],\n",
       "       [0.36      , 0.60942029],\n",
       "       [0.37      , 0.60942029],\n",
       "       [0.38      , 0.60942029],\n",
       "       [0.39      , 0.60942029],\n",
       "       [0.4       , 0.60942029],\n",
       "       [0.41      , 0.60942029],\n",
       "       [0.42      , 0.60328467],\n",
       "       [0.43      , 0.60328467],\n",
       "       [0.44      , 0.60328467],\n",
       "       [0.45      , 0.60328467],\n",
       "       [0.46      , 0.64827784],\n",
       "       [0.47      , 0.67163743],\n",
       "       [0.48      , 0.67564103],\n",
       "       [0.49      , 0.68000615],\n",
       "       [0.5       , 0.70981818],\n",
       "       [0.51      , 0.53385093],\n",
       "       [0.52      , 0.42720232],\n",
       "       [0.53      , 0.337068  ],\n",
       "       [0.54      , 0.21701777],\n",
       "       [0.55      , 0.16933333],\n",
       "       [0.56      , 0.14437825],\n",
       "       [0.57      , 0.14437825],\n",
       "       [0.58      , 0.14437825],\n",
       "       [0.59      , 0.14437825],\n",
       "       [0.6       , 0.14437825],\n",
       "       [0.61      , 0.14437825],\n",
       "       [0.62      , 0.14437825],\n",
       "       [0.63      , 0.14437825],\n",
       "       [0.64      , 0.14437825],\n",
       "       [0.65      , 0.11862745],\n",
       "       [0.66      , 0.11862745],\n",
       "       [0.67      , 0.11862745],\n",
       "       [0.68      , 0.11862745],\n",
       "       [0.69      , 0.11862745],\n",
       "       [0.7       , 0.11862745],\n",
       "       [0.71      , 0.11862745],\n",
       "       [0.72      , 0.11862745],\n",
       "       [0.73      , 0.11862745],\n",
       "       [0.74      , 0.11862745],\n",
       "       [0.75      , 0.11862745],\n",
       "       [0.76      , 0.11862745],\n",
       "       [0.77      , 0.11862745],\n",
       "       [0.78      , 0.11862745],\n",
       "       [0.79      , 0.11862745],\n",
       "       [0.8       , 0.11862745],\n",
       "       [0.81      , 0.11862745],\n",
       "       [0.82      , 0.11862745],\n",
       "       [0.83      , 0.11862745],\n",
       "       [0.84      , 0.11862745],\n",
       "       [0.85      , 0.11862745],\n",
       "       [0.86      , 0.11862745],\n",
       "       [0.87      , 0.11862745],\n",
       "       [0.88      , 0.11862745],\n",
       "       [0.89      , 0.11862745],\n",
       "       [0.9       , 0.11862745],\n",
       "       [0.91      , 0.11862745],\n",
       "       [0.92      , 0.11862745],\n",
       "       [0.93      , 0.11862745],\n",
       "       [0.94      , 0.11862745],\n",
       "       [0.95      , 0.11862745],\n",
       "       [0.96      , 0.11862745],\n",
       "       [0.97      , 0.11862745],\n",
       "       [0.98      , 0.11862745],\n",
       "       [0.99      , 0.11862745],\n",
       "       [1.        , 0.11862745]])"
      ]
     },
     "execution_count": 155,
     "metadata": {
      "tags": []
     },
     "output_type": "execute_result"
    }
   ],
   "source": [
    "np.concatenate([np.array(custom_weight_list).reshape(-1,1), np.array(f1_sc).reshape(-1,1)], axis=1)"
   ]
  },
  {
   "cell_type": "code",
   "execution_count": null,
   "metadata": {
    "id": "-NPHr63F8SGx"
   },
   "outputs": [],
   "source": []
  },
  {
   "cell_type": "code",
   "execution_count": 160,
   "metadata": {
    "id": "si5kVkeV-9Np"
   },
   "outputs": [],
   "source": [
    "# Create imbalanced dataset by removing rows from target=0\n",
    "df0 = df[df['target']==0]\n",
    "df0_keep = df0.iloc[:50,:]\n",
    "\n",
    "df1 = df[df['target']==1]\n",
    "\n",
    "df_imbalanced = pd.concat([df0_keep, df1], axis=0)\n",
    "X = df_imbalanced.drop('target', axis=1).values\n",
    "y = df_imbalanced['target'].values"
   ]
  },
  {
   "cell_type": "code",
   "execution_count": 161,
   "metadata": {
    "colab": {
     "base_uri": "https://localhost:8080/"
    },
    "id": "N5ecR3h9-9sM",
    "outputId": "3f7a6f4a-f9f4-4a3c-b42b-0cfb8e114261"
   },
   "outputs": [
    {
     "data": {
      "text/plain": [
       "1    0.847561\n",
       "0    0.152439\n",
       "Name: target, dtype: float64"
      ]
     },
     "execution_count": 161,
     "metadata": {
      "tags": []
     },
     "output_type": "execute_result"
    }
   ],
   "source": [
    "# Check proportion class imbalance \n",
    "# About 15% class index 0\n",
    "df_imbalanced['target'].value_counts(normalize=True)"
   ]
  },
  {
   "cell_type": "code",
   "execution_count": 162,
   "metadata": {
    "id": "LU3T93JZ-974"
   },
   "outputs": [],
   "source": [
    "from sklearn import model_selection\n",
    "X_train, X_test, y_train, y_test = model_selection.train_test_split(X, y, test_size=0.2, random_state=4)"
   ]
  },
  {
   "cell_type": "code",
   "execution_count": 163,
   "metadata": {
    "id": "uS8X9lLF-9_6"
   },
   "outputs": [],
   "source": [
    "import numpy as np\n",
    "# Create custom_weight (for class index 0) hyperparamter list [0.01, 0.02,...,1.0]\n",
    "custom_weight_list = np.linspace(0.01, 1.0, 100).tolist()"
   ]
  },
  {
   "cell_type": "code",
   "execution_count": 164,
   "metadata": {
    "id": "ZKWhJuxp--ED"
   },
   "outputs": [],
   "source": [
    "from sklearn import metrics\n",
    "\n",
    "f1_sc = []\n",
    "for i, wgt in enumerate(custom_weight_list):\n",
    "    # Obtain F1 score for various custom_weight (for class index 0) values\n",
    "    model = PGMHQC_gpu_dtype(rescale=2, n_copies=2, encoding='stereo', measure='hels', class_wgt='custom', custom_weight=wgt, n_splits=1, dtype=torch.float64).fit(X_train, y_train)\n",
    "    y_hat = model.predict(X_test)\n",
    "    f1_sc.append(metrics.f1_score(y_test, y_hat, average='weighted'))"
   ]
  },
  {
   "cell_type": "code",
   "execution_count": 165,
   "metadata": {
    "colab": {
     "base_uri": "https://localhost:8080/",
     "height": 296
    },
    "id": "2jA-WUoI-943",
    "outputId": "e5fe0b74-e366-44e5-d7e2-f364f60a305e"
   },
   "outputs": [
    {
     "data": {
      "image/png": "[encoded data removed]",
      "text/plain": [
       "<Figure size 432x288 with 1 Axes>"
      ]
     },
     "metadata": {
      "needs_background": "light",
      "tags": []
     },
     "output_type": "display_data"
    }
   ],
   "source": [
    "import matplotlib.pyplot as plt\n",
    "\n",
    "# Plot F1 score vs. custom_weight (for class index 0) values\n",
    "plt.plot(custom_weight_list, f1_sc)\n",
    "plt.xlabel('custom_weight')\n",
    "plt.ylabel('F1 Score')\n",
    "plt.title('F1 Score vs. custom_weight (for class index 0)')\n",
    "plt.show()"
   ]
  },
  {
   "cell_type": "markdown",
   "metadata": {},
   "source": [
    "**Commentary:** \n",
    "- Since the class cardinality is 15%/85%, the dataset is imbalanced. \n",
    "- We can see the score performance is quite low at around the vicinity of the a-priori probability/custom_weight = 0.15. \n",
    "- Let's see if we can improve the score performance by adjusting for the equiprobable version (ie. adjusting for the 'class weight method'). After adjusting for this, the score performance improved at around the vicinity of custom_weight = 0.5. This is as expected since the dataset is imbalanced.\n",
    "- The score performance is most optimal at around the vicinity of custom_weight = 0.5, compared to all other custom_weight values to the far left or far right (ie. the score performance is most optimal using the **'equiprobable'** version)."
   ]
  },
  {
   "cell_type": "code",
   "execution_count": 166,
   "metadata": {
    "colab": {
     "base_uri": "https://localhost:8080/"
    },
    "id": "EyautSlY-91y",
    "outputId": "3b97fce9-0d2c-4b45-c2e1-544547703bca"
   },
   "outputs": [
    {
     "data": {
      "text/plain": [
       "array([[0.01      , 0.69440164],\n",
       "       [0.02      , 0.69440164],\n",
       "       [0.03      , 0.69440164],\n",
       "       [0.04      , 0.69440164],\n",
       "       [0.05      , 0.69440164],\n",
       "       [0.06      , 0.69440164],\n",
       "       [0.07      , 0.69440164],\n",
       "       [0.08      , 0.69440164],\n",
       "       [0.09      , 0.69440164],\n",
       "       [0.1       , 0.69440164],\n",
       "       [0.11      , 0.69440164],\n",
       "       [0.12      , 0.69440164],\n",
       "       [0.13      , 0.69440164],\n",
       "       [0.14      , 0.69440164],\n",
       "       [0.15      , 0.69440164],\n",
       "       [0.16      , 0.69440164],\n",
       "       [0.17      , 0.69440164],\n",
       "       [0.18      , 0.69440164],\n",
       "       [0.19      , 0.69440164],\n",
       "       [0.2       , 0.69440164],\n",
       "       [0.21      , 0.69440164],\n",
       "       [0.22      , 0.69440164],\n",
       "       [0.23      , 0.69440164],\n",
       "       [0.24      , 0.69440164],\n",
       "       [0.25      , 0.69440164],\n",
       "       [0.26      , 0.69440164],\n",
       "       [0.27      , 0.69440164],\n",
       "       [0.28      , 0.69440164],\n",
       "       [0.29      , 0.69440164],\n",
       "       [0.3       , 0.69440164],\n",
       "       [0.31      , 0.69440164],\n",
       "       [0.32      , 0.69440164],\n",
       "       [0.33      , 0.69440164],\n",
       "       [0.34      , 0.69440164],\n",
       "       [0.35      , 0.69440164],\n",
       "       [0.36      , 0.69440164],\n",
       "       [0.37      , 0.69440164],\n",
       "       [0.38      , 0.69440164],\n",
       "       [0.39      , 0.69440164],\n",
       "       [0.4       , 0.69440164],\n",
       "       [0.41      , 0.69440164],\n",
       "       [0.42      , 0.69440164],\n",
       "       [0.43      , 0.69440164],\n",
       "       [0.44      , 0.72861953],\n",
       "       [0.45      , 0.75940439],\n",
       "       [0.46      , 0.75940439],\n",
       "       [0.47      , 0.77565125],\n",
       "       [0.48      , 0.76422351],\n",
       "       [0.49      , 0.83195592],\n",
       "       [0.5       , 0.79397338],\n",
       "       [0.51      , 0.76960077],\n",
       "       [0.52      , 0.68187097],\n",
       "       [0.53      , 0.57153288],\n",
       "       [0.54      , 0.54704944],\n",
       "       [0.55      , 0.30752688],\n",
       "       [0.56      , 0.24327148],\n",
       "       [0.57      , 0.21741627],\n",
       "       [0.58      , 0.19070403],\n",
       "       [0.59      , 0.13450747],\n",
       "       [0.6       , 0.13450747],\n",
       "       [0.61      , 0.10491348],\n",
       "       [0.62      , 0.07424242],\n",
       "       [0.63      , 0.07424242],\n",
       "       [0.64      , 0.07424242],\n",
       "       [0.65      , 0.07424242],\n",
       "       [0.66      , 0.07424242],\n",
       "       [0.67      , 0.07424242],\n",
       "       [0.68      , 0.07424242],\n",
       "       [0.69      , 0.07424242],\n",
       "       [0.7       , 0.07424242],\n",
       "       [0.71      , 0.07424242],\n",
       "       [0.72      , 0.07424242],\n",
       "       [0.73      , 0.07424242],\n",
       "       [0.74      , 0.07424242],\n",
       "       [0.75      , 0.07424242],\n",
       "       [0.76      , 0.07424242],\n",
       "       [0.77      , 0.07424242],\n",
       "       [0.78      , 0.07424242],\n",
       "       [0.79      , 0.07424242],\n",
       "       [0.8       , 0.07424242],\n",
       "       [0.81      , 0.07424242],\n",
       "       [0.82      , 0.07424242],\n",
       "       [0.83      , 0.07424242],\n",
       "       [0.84      , 0.07424242],\n",
       "       [0.85      , 0.07424242],\n",
       "       [0.86      , 0.07424242],\n",
       "       [0.87      , 0.07424242],\n",
       "       [0.88      , 0.07424242],\n",
       "       [0.89      , 0.07424242],\n",
       "       [0.9       , 0.07424242],\n",
       "       [0.91      , 0.07424242],\n",
       "       [0.92      , 0.07424242],\n",
       "       [0.93      , 0.07424242],\n",
       "       [0.94      , 0.07424242],\n",
       "       [0.95      , 0.07424242],\n",
       "       [0.96      , 0.07424242],\n",
       "       [0.97      , 0.07424242],\n",
       "       [0.98      , 0.07424242],\n",
       "       [0.99      , 0.07424242],\n",
       "       [1.        , 0.07424242]])"
      ]
     },
     "execution_count": 166,
     "metadata": {
      "tags": []
     },
     "output_type": "execute_result"
    }
   ],
   "source": [
    "np.concatenate([np.array(custom_weight_list).reshape(-1,1), np.array(f1_sc).reshape(-1,1)], axis=1)"
   ]
  },
  {
   "cell_type": "code",
   "execution_count": null,
   "metadata": {
    "id": "qi41CNTG-9xJ"
   },
   "outputs": [],
   "source": []
  },
  {
   "cell_type": "code",
   "execution_count": 169,
   "metadata": {
    "id": "hxxSsApE-9pg"
   },
   "outputs": [],
   "source": [
    "# Create imbalanced dataset by removing rows from target=0\n",
    "df0 = df[df['target']==0]\n",
    "df0_keep = df0.iloc[:15,:]\n",
    "\n",
    "df1 = df[df['target']==1]\n",
    "\n",
    "df_imbalanced = pd.concat([df0_keep, df1], axis=0)\n",
    "X = df_imbalanced.drop('target', axis=1).values\n",
    "y = df_imbalanced['target'].values"
   ]
  },
  {
   "cell_type": "code",
   "execution_count": 170,
   "metadata": {
    "colab": {
     "base_uri": "https://localhost:8080/"
    },
    "id": "TN-nIp-q-9mF",
    "outputId": "40921dad-3bc2-48a6-f880-1e4b253ef8cb"
   },
   "outputs": [
    {
     "data": {
      "text/plain": [
       "1    0.948805\n",
       "0    0.051195\n",
       "Name: target, dtype: float64"
      ]
     },
     "execution_count": 170,
     "metadata": {
      "tags": []
     },
     "output_type": "execute_result"
    }
   ],
   "source": [
    "# Check proportion class imbalance\n",
    "# About 5% class index 0\n",
    "df_imbalanced['target'].value_counts(normalize=True)"
   ]
  },
  {
   "cell_type": "code",
   "execution_count": 171,
   "metadata": {
    "id": "MtFB3gQ4-9jG"
   },
   "outputs": [],
   "source": [
    "from sklearn import model_selection\n",
    "X_train, X_test, y_train, y_test = model_selection.train_test_split(X, y, test_size=0.2, random_state=4)"
   ]
  },
  {
   "cell_type": "code",
   "execution_count": 172,
   "metadata": {
    "id": "Ynca0tJa-9fy"
   },
   "outputs": [],
   "source": [
    "import numpy as np\n",
    "# Create custom_weight (for class index 0) hyperparamter list [0.01, 0.02,...,1.0]\n",
    "custom_weight_list = np.linspace(0.01, 1.0, 100).tolist()"
   ]
  },
  {
   "cell_type": "code",
   "execution_count": 173,
   "metadata": {
    "id": "N_I25KQW-9ce"
   },
   "outputs": [],
   "source": [
    "from sklearn import metrics\n",
    "\n",
    "f1_sc = []\n",
    "for i, wgt in enumerate(custom_weight_list):\n",
    "    # Obtain F1 score for various custom_weight (for class index 0) values\n",
    "    model = PGMHQC_gpu_dtype(rescale=2, n_copies=2, encoding='stereo', measure='hels', class_wgt='custom', custom_weight=wgt, n_splits=1, dtype=torch.float64).fit(X_train, y_train)\n",
    "    y_hat = model.predict(X_test)\n",
    "    f1_sc.append(metrics.f1_score(y_test, y_hat, average='weighted'))"
   ]
  },
  {
   "cell_type": "code",
   "execution_count": 174,
   "metadata": {
    "colab": {
     "base_uri": "https://localhost:8080/",
     "height": 296
    },
    "id": "UfvkdUGu-9ZV",
    "outputId": "d9b376af-b5c2-4b8c-fb9b-8345583b50ba"
   },
   "outputs": [
    {
     "data": {
      "image/png": "[encoded data removed]",
      "text/plain": [
       "<Figure size 432x288 with 1 Axes>"
      ]
     },
     "metadata": {
      "needs_background": "light",
      "tags": []
     },
     "output_type": "display_data"
    }
   ],
   "source": [
    "import matplotlib.pyplot as plt\n",
    "\n",
    "# Plot F1 score vs. custom_weight (for class index 0) values\n",
    "plt.plot(custom_weight_list, f1_sc)\n",
    "plt.xlabel('custom_weight')\n",
    "plt.ylabel('F1 Score')\n",
    "plt.title('F1 Score vs. custom_weight (for class index 0)')\n",
    "plt.show()"
   ]
  },
  {
   "cell_type": "markdown",
   "metadata": {},
   "source": [
    "**Commentary:** \n",
    "- Since the class cardinality is 5%/95%, the dataset is highly imbalanced. \n",
    "- We can see the score performance is already quite high at around the vicinity of the a-priori probability/custom_weight = 0.05. \n",
    "- Let's see if we can improve the score performance further by adjusting for the equiprobable version (ie. adjusting for the 'class weight method'). After adjusting for this, the score performance decrease at around the vicinity of custom_weight = 0.5. This could happen because for this dataset, the dataset could be too highly imbalanced that the 'class weight method' does not help in improving the score performance.\n",
    "- The score performance is most optimal at around the vicinity of custom_weight = 0.05, compared to all other custom_weight values in the middle or far right (ie. the score performance is most optimal using the **'weighted'** version)."
   ]
  },
  {
   "cell_type": "code",
   "execution_count": 175,
   "metadata": {
    "colab": {
     "base_uri": "https://localhost:8080/"
    },
    "id": "XaPm_5vf-9WQ",
    "outputId": "09f240a2-be83-4967-915e-9427a460e514"
   },
   "outputs": [
    {
     "data": {
      "text/plain": [
       "array([[0.01      , 0.87475626],\n",
       "       [0.02      , 0.87475626],\n",
       "       [0.03      , 0.87475626],\n",
       "       [0.04      , 0.87475626],\n",
       "       [0.05      , 0.87475626],\n",
       "       [0.06      , 0.87475626],\n",
       "       [0.07      , 0.87475626],\n",
       "       [0.08      , 0.87475626],\n",
       "       [0.09      , 0.87475626],\n",
       "       [0.1       , 0.87475626],\n",
       "       [0.11      , 0.87475626],\n",
       "       [0.12      , 0.87475626],\n",
       "       [0.13      , 0.87475626],\n",
       "       [0.14      , 0.87475626],\n",
       "       [0.15      , 0.87475626],\n",
       "       [0.16      , 0.87475626],\n",
       "       [0.17      , 0.87475626],\n",
       "       [0.18      , 0.87475626],\n",
       "       [0.19      , 0.87475626],\n",
       "       [0.2       , 0.87475626],\n",
       "       [0.21      , 0.87475626],\n",
       "       [0.22      , 0.87475626],\n",
       "       [0.23      , 0.87475626],\n",
       "       [0.24      , 0.87475626],\n",
       "       [0.25      , 0.87475626],\n",
       "       [0.26      , 0.87475626],\n",
       "       [0.27      , 0.87475626],\n",
       "       [0.28      , 0.87475626],\n",
       "       [0.29      , 0.87475626],\n",
       "       [0.3       , 0.87475626],\n",
       "       [0.31      , 0.87475626],\n",
       "       [0.32      , 0.87475626],\n",
       "       [0.33      , 0.87475626],\n",
       "       [0.34      , 0.87475626],\n",
       "       [0.35      , 0.87475626],\n",
       "       [0.36      , 0.87475626],\n",
       "       [0.37      , 0.87475626],\n",
       "       [0.38      , 0.87475626],\n",
       "       [0.39      , 0.91081517],\n",
       "       [0.4       , 0.89823964],\n",
       "       [0.41      , 0.89823964],\n",
       "       [0.42      , 0.89823964],\n",
       "       [0.43      , 0.89823964],\n",
       "       [0.44      , 0.89823964],\n",
       "       [0.45      , 0.89823964],\n",
       "       [0.46      , 0.86440678],\n",
       "       [0.47      , 0.86287949],\n",
       "       [0.48      , 0.86917887],\n",
       "       [0.49      , 0.8613936 ],\n",
       "       [0.5       , 0.78771487],\n",
       "       [0.51      , 0.7354905 ],\n",
       "       [0.52      , 0.64859216],\n",
       "       [0.53      , 0.61721677],\n",
       "       [0.54      , 0.58441982],\n",
       "       [0.55      , 0.4952661 ],\n",
       "       [0.56      , 0.47605011],\n",
       "       [0.57      , 0.41523168],\n",
       "       [0.58      , 0.39381854],\n",
       "       [0.59      , 0.3717901 ],\n",
       "       [0.6       , 0.30171061],\n",
       "       [0.61      , 0.25132781],\n",
       "       [0.62      , 0.16949153],\n",
       "       [0.63      , 0.16949153],\n",
       "       [0.64      , 0.16949153],\n",
       "       [0.65      , 0.16949153],\n",
       "       [0.66      , 0.16949153],\n",
       "       [0.67      , 0.16949153],\n",
       "       [0.68      , 0.16949153],\n",
       "       [0.69      , 0.16949153],\n",
       "       [0.7       , 0.16949153],\n",
       "       [0.71      , 0.16949153],\n",
       "       [0.72      , 0.14036626],\n",
       "       [0.73      , 0.14036626],\n",
       "       [0.74      , 0.14036626],\n",
       "       [0.75      , 0.07904397],\n",
       "       [0.76      , 0.07904397],\n",
       "       [0.77      , 0.07904397],\n",
       "       [0.78      , 0.07904397],\n",
       "       [0.79      , 0.07904397],\n",
       "       [0.8       , 0.07904397],\n",
       "       [0.81      , 0.07904397],\n",
       "       [0.82      , 0.07904397],\n",
       "       [0.83      , 0.07904397],\n",
       "       [0.84      , 0.07904397],\n",
       "       [0.85      , 0.07904397],\n",
       "       [0.86      , 0.07904397],\n",
       "       [0.87      , 0.07904397],\n",
       "       [0.88      , 0.04673368],\n",
       "       [0.89      , 0.04673368],\n",
       "       [0.9       , 0.04673368],\n",
       "       [0.91      , 0.01324153],\n",
       "       [0.92      , 0.01324153],\n",
       "       [0.93      , 0.01324153],\n",
       "       [0.94      , 0.01324153],\n",
       "       [0.95      , 0.01324153],\n",
       "       [0.96      , 0.01324153],\n",
       "       [0.97      , 0.01324153],\n",
       "       [0.98      , 0.01324153],\n",
       "       [0.99      , 0.01324153],\n",
       "       [1.        , 0.01324153]])"
      ]
     },
     "execution_count": 175,
     "metadata": {
      "tags": []
     },
     "output_type": "execute_result"
    }
   ],
   "source": [
    "np.concatenate([np.array(custom_weight_list).reshape(-1,1), np.array(f1_sc).reshape(-1,1)], axis=1)"
   ]
  },
  {
   "cell_type": "code",
   "execution_count": null,
   "metadata": {
    "id": "o-VqtTtc-9TZ"
   },
   "outputs": [],
   "source": []
  },
  {
   "cell_type": "code",
   "execution_count": 180,
   "metadata": {
    "id": "9zEPTV_C_flk"
   },
   "outputs": [],
   "source": [
    "# Create imbalanced dataset by removing rows from target=0\n",
    "df0 = df[df['target']==0]\n",
    "df0_keep = df0.iloc[:9,:]\n",
    "\n",
    "df1 = df[df['target']==1]\n",
    "\n",
    "df_imbalanced = pd.concat([df0_keep, df1], axis=0)\n",
    "X = df_imbalanced.drop('target', axis=1).values\n",
    "y = df_imbalanced['target'].values"
   ]
  },
  {
   "cell_type": "code",
   "execution_count": 181,
   "metadata": {
    "colab": {
     "base_uri": "https://localhost:8080/"
    },
    "id": "AhWGjUVM_f0-",
    "outputId": "3dac43b9-350c-4237-b23b-ce6303bb8a98"
   },
   "outputs": [
    {
     "data": {
      "text/plain": [
       "1    0.968641\n",
       "0    0.031359\n",
       "Name: target, dtype: float64"
      ]
     },
     "execution_count": 181,
     "metadata": {
      "tags": []
     },
     "output_type": "execute_result"
    }
   ],
   "source": [
    "# Check proportion class imbalance\n",
    "# About 3% class index 0\n",
    "df_imbalanced['target'].value_counts(normalize=True)"
   ]
  },
  {
   "cell_type": "code",
   "execution_count": 182,
   "metadata": {
    "id": "vLqIHE-H_gFn"
   },
   "outputs": [],
   "source": [
    "from sklearn import model_selection\n",
    "X_train, X_test, y_train, y_test = model_selection.train_test_split(X, y, test_size=0.2, random_state=4)"
   ]
  },
  {
   "cell_type": "code",
   "execution_count": 183,
   "metadata": {
    "id": "tWJLv8Uy_gLH"
   },
   "outputs": [],
   "source": [
    "import numpy as np\n",
    "# Create custom_weight (for class index 0) hyperparamter list [0.01, 0.02,...,1.0]\n",
    "custom_weight_list = np.linspace(0.01, 1.0, 100).tolist()"
   ]
  },
  {
   "cell_type": "code",
   "execution_count": 184,
   "metadata": {
    "id": "6TNR3WmJ_gCY"
   },
   "outputs": [],
   "source": [
    "from sklearn import metrics\n",
    "\n",
    "f1_sc = []\n",
    "for i, wgt in enumerate(custom_weight_list):\n",
    "    # Obtain F1 score for various custom_weight (for class index 0) values\n",
    "    model = PGMHQC_gpu_dtype(rescale=2, n_copies=2, encoding='stereo', measure='hels', class_wgt='custom', custom_weight=wgt, n_splits=1, dtype=torch.float64).fit(X_train, y_train)\n",
    "    y_hat = model.predict(X_test)\n",
    "    f1_sc.append(metrics.f1_score(y_test, y_hat, average='weighted'))"
   ]
  },
  {
   "cell_type": "code",
   "execution_count": 185,
   "metadata": {
    "colab": {
     "base_uri": "https://localhost:8080/",
     "height": 296
    },
    "id": "nFzv6Nht_f_a",
    "outputId": "c51e6b4f-0dbc-46b0-ad78-137c4eaa1ef3"
   },
   "outputs": [
    {
     "data": {
      "image/png": "[encoded data removed]",
      "text/plain": [
       "<Figure size 432x288 with 1 Axes>"
      ]
     },
     "metadata": {
      "needs_background": "light",
      "tags": []
     },
     "output_type": "display_data"
    }
   ],
   "source": [
    "import matplotlib.pyplot as plt\n",
    "\n",
    "# Plot F1 score vs. custom_weight (for class index 0) values\n",
    "plt.plot(custom_weight_list, f1_sc)\n",
    "plt.xlabel('custom_weight')\n",
    "plt.ylabel('F1 Score')\n",
    "plt.title('F1 Score vs. custom_weight (for class index 0)')\n",
    "plt.show()"
   ]
  },
  {
   "cell_type": "markdown",
   "metadata": {},
   "source": [
    "**Commentary:** \n",
    "- Since the class cardinality is 3%/97%, the dataset is highly imbalanced. \n",
    "- We can see the score performance is already quite high at around the vicinity of the a-priori probability/custom_weight = 0.03. \n",
    "- Let's see if we can improve the score performance further by adjusting for the equiprobable version (ie. adjusting for the 'class weight method'). After adjusting for this, the score performance decrease at around the vicinity of custom_weight = 0.5. This could happen because for this dataset, the dataset could be too highly imbalanced that the 'class weight method' does not help in improving the score performance.\n",
    "- The score performance is most optimal at around the vicinity of custom_weight = 0.03, compared to all other custom_weight values in the middle or far right (ie. the score performance is most optimal using the **'weighted'** version)."
   ]
  },
  {
   "cell_type": "code",
   "execution_count": 186,
   "metadata": {
    "colab": {
     "base_uri": "https://localhost:8080/"
    },
    "id": "LhKTaLnO_f6B",
    "outputId": "d31cd3fe-8d36-49a4-e335-823709fc1cbf"
   },
   "outputs": [
    {
     "data": {
      "text/plain": [
       "array([[0.01      , 0.94857834],\n",
       "       [0.02      , 0.94857834],\n",
       "       [0.03      , 0.94857834],\n",
       "       [0.04      , 0.94857834],\n",
       "       [0.05      , 0.94857834],\n",
       "       [0.06      , 0.94857834],\n",
       "       [0.07      , 0.94857834],\n",
       "       [0.08      , 0.94857834],\n",
       "       [0.09      , 0.94857834],\n",
       "       [0.1       , 0.94857834],\n",
       "       [0.11      , 0.94857834],\n",
       "       [0.12      , 0.94857834],\n",
       "       [0.13      , 0.94857834],\n",
       "       [0.14      , 0.94857834],\n",
       "       [0.15      , 0.94857834],\n",
       "       [0.16      , 0.94857834],\n",
       "       [0.17      , 0.94857834],\n",
       "       [0.18      , 0.94857834],\n",
       "       [0.19      , 0.94857834],\n",
       "       [0.2       , 0.94857834],\n",
       "       [0.21      , 0.94857834],\n",
       "       [0.22      , 0.94857834],\n",
       "       [0.23      , 0.94857834],\n",
       "       [0.24      , 0.94857834],\n",
       "       [0.25      , 0.94857834],\n",
       "       [0.26      , 0.94857834],\n",
       "       [0.27      , 0.94857834],\n",
       "       [0.28      , 0.94857834],\n",
       "       [0.29      , 0.94857834],\n",
       "       [0.3       , 0.94857834],\n",
       "       [0.31      , 0.94857834],\n",
       "       [0.32      , 0.94857834],\n",
       "       [0.33      , 0.94857834],\n",
       "       [0.34      , 0.94857834],\n",
       "       [0.35      , 0.94857834],\n",
       "       [0.36      , 0.94857834],\n",
       "       [0.37      , 0.94857834],\n",
       "       [0.38      , 0.94857834],\n",
       "       [0.39      , 0.94857834],\n",
       "       [0.4       , 0.94857834],\n",
       "       [0.41      , 0.94857834],\n",
       "       [0.42      , 0.94857834],\n",
       "       [0.43      , 0.94857834],\n",
       "       [0.44      , 0.94857834],\n",
       "       [0.45      , 0.92202547],\n",
       "       [0.46      , 0.92202547],\n",
       "       [0.47      , 0.91285266],\n",
       "       [0.48      , 0.87443071],\n",
       "       [0.49      , 0.82328355],\n",
       "       [0.5       , 0.75049572],\n",
       "       [0.51      , 0.67821438],\n",
       "       [0.52      , 0.63234757],\n",
       "       [0.53      , 0.49255957],\n",
       "       [0.54      , 0.3892054 ],\n",
       "       [0.55      , 0.3892054 ],\n",
       "       [0.56      , 0.2953396 ],\n",
       "       [0.57      , 0.27007854],\n",
       "       [0.58      , 0.18942858],\n",
       "       [0.59      , 0.18942858],\n",
       "       [0.6       , 0.16078935],\n",
       "       [0.61      , 0.13119869],\n",
       "       [0.62      , 0.10060804],\n",
       "       [0.63      , 0.10060804],\n",
       "       [0.64      , 0.10060804],\n",
       "       [0.65      , 0.06896552],\n",
       "       [0.66      , 0.06896552],\n",
       "       [0.67      , 0.06896552],\n",
       "       [0.68      , 0.06896552],\n",
       "       [0.69      , 0.06896552],\n",
       "       [0.7       , 0.06896552],\n",
       "       [0.71      , 0.06896552],\n",
       "       [0.72      , 0.06896552],\n",
       "       [0.73      , 0.06896552],\n",
       "       [0.74      , 0.06896552],\n",
       "       [0.75      , 0.06896552],\n",
       "       [0.76      , 0.06896552],\n",
       "       [0.77      , 0.06896552],\n",
       "       [0.78      , 0.03621561],\n",
       "       [0.79      , 0.03621561],\n",
       "       [0.8       , 0.03621561],\n",
       "       [0.81      , 0.03621561],\n",
       "       [0.82      , 0.03621561],\n",
       "       [0.83      , 0.03621561],\n",
       "       [0.84      , 0.03621561],\n",
       "       [0.85      , 0.03621561],\n",
       "       [0.86      , 0.03621561],\n",
       "       [0.87      , 0.03621561],\n",
       "       [0.88      , 0.03621561],\n",
       "       [0.89      , 0.00229885],\n",
       "       [0.9       , 0.00229885],\n",
       "       [0.91      , 0.00229885],\n",
       "       [0.92      , 0.00229885],\n",
       "       [0.93      , 0.00229885],\n",
       "       [0.94      , 0.00229885],\n",
       "       [0.95      , 0.00229885],\n",
       "       [0.96      , 0.00229885],\n",
       "       [0.97      , 0.00229885],\n",
       "       [0.98      , 0.00229885],\n",
       "       [0.99      , 0.00229885],\n",
       "       [1.        , 0.00229885]])"
      ]
     },
     "execution_count": 186,
     "metadata": {
      "tags": []
     },
     "output_type": "execute_result"
    }
   ],
   "source": [
    "np.concatenate([np.array(custom_weight_list).reshape(-1,1), np.array(f1_sc).reshape(-1,1)], axis=1)"
   ]
  },
  {
   "cell_type": "code",
   "execution_count": null,
   "metadata": {
    "id": "tO2C7zUi_fzC"
   },
   "outputs": [],
   "source": []
  },
  {
   "cell_type": "code",
   "execution_count": null,
   "metadata": {
    "id": "wnb-ix2h_fu5"
   },
   "outputs": [],
   "source": []
  },
  {
   "cell_type": "code",
   "execution_count": 197,
   "metadata": {
    "id": "H8Ug1ra9TYjH"
   },
   "outputs": [],
   "source": [
    "# bupa dataset (5 features, 345 rows)\n",
    "import pandas as pd\n",
    "\n",
    "df = pd.read_csv('bupa.tsv', sep='\\t')\n",
    "X = df.drop('target', axis=1).values\n",
    "y = df['target'].values"
   ]
  },
  {
   "cell_type": "code",
   "execution_count": 198,
   "metadata": {
    "colab": {
     "base_uri": "https://localhost:8080/"
    },
    "id": "6y2OxzX9TYr3",
    "outputId": "80099414-fda2-47e6-f588-0917e80b30c6"
   },
   "outputs": [
    {
     "data": {
      "text/plain": [
       "1    0.510145\n",
       "0    0.489855\n",
       "Name: target, dtype: float64"
      ]
     },
     "execution_count": 198,
     "metadata": {
      "tags": []
     },
     "output_type": "execute_result"
    }
   ],
   "source": [
    "# Check proportion class imbalance\n",
    "# About 50% class index 0\n",
    "df['target'].value_counts(normalize=True)"
   ]
  },
  {
   "cell_type": "code",
   "execution_count": 199,
   "metadata": {
    "id": "tGh2yDIaTYvI"
   },
   "outputs": [],
   "source": [
    "from sklearn import model_selection\n",
    "X_train, X_test, y_train, y_test = model_selection.train_test_split(X, y, test_size=0.2, random_state=4)"
   ]
  },
  {
   "cell_type": "code",
   "execution_count": 200,
   "metadata": {
    "id": "N1-peE8HTYps"
   },
   "outputs": [],
   "source": [
    "import numpy as np\n",
    "# Create custom_weight (for class index 0) hyperparamter list [0.01, 0.02,...,1.0]\n",
    "custom_weight_list = np.linspace(0.01, 1.0, 100).tolist()"
   ]
  },
  {
   "cell_type": "code",
   "execution_count": 201,
   "metadata": {
    "id": "r4odkZqATYnP"
   },
   "outputs": [],
   "source": [
    "from sklearn import metrics\n",
    "\n",
    "f1_sc = []\n",
    "for i, wgt in enumerate(custom_weight_list):\n",
    "    # Obtain F1 score for various custom_weight (for class index 0) values\n",
    "    model = PGMHQC_gpu_dtype(rescale=0.5, n_copies=3, encoding='stereo', measure='hels', class_wgt='custom', custom_weight=wgt, n_splits=1, dtype=torch.float64).fit(X_train, y_train)\n",
    "    y_hat = model.predict(X_test)\n",
    "    f1_sc.append(metrics.f1_score(y_test, y_hat, average='weighted'))"
   ]
  },
  {
   "cell_type": "code",
   "execution_count": 202,
   "metadata": {
    "colab": {
     "base_uri": "https://localhost:8080/",
     "height": 296
    },
    "id": "R2BwYiB-bUfe",
    "outputId": "25335539-a884-48b2-f6fe-095c547405ff"
   },
   "outputs": [
    {
     "data": {
      "image/png": "[encoded data removed]",
      "text/plain": [
       "<Figure size 432x288 with 1 Axes>"
      ]
     },
     "metadata": {
      "needs_background": "light",
      "tags": []
     },
     "output_type": "display_data"
    }
   ],
   "source": [
    "import matplotlib.pyplot as plt\n",
    "\n",
    "# Plot F1 score vs. custom_weight (for class index 0) values\n",
    "plt.plot(custom_weight_list, f1_sc)\n",
    "plt.xlabel('custom_weight')\n",
    "plt.ylabel('F1 Score')\n",
    "plt.title('F1 Score vs. custom_weight (for class index 0)')\n",
    "plt.show()"
   ]
  },
  {
   "cell_type": "markdown",
   "metadata": {},
   "source": [
    "**Commentary:** \n",
    "- Since the class cardinality is 50%/50%, the dataset is balanced. \n",
    "- We can see the score performance is high at around the vicinity of the a-priori probability/custom_weight = 0.5. \n",
    "- Since the class cardinality is already 50%/50%, this is equivalent to the 'equiprobable' version (ie. the 'class weight method').\n",
    "- The score performance is most optimal at around the vicinity of custom_weight = 0.5, compared to all other custom_weight values to the far left or far right (ie. the score performance is most optimal using the **'weighted'** and/or **'equiprobable'** version)."
   ]
  },
  {
   "cell_type": "code",
   "execution_count": 203,
   "metadata": {
    "colab": {
     "base_uri": "https://localhost:8080/"
    },
    "id": "nCgWPGCGbUjX",
    "outputId": "76a3026e-6962-4f1f-cb53-d6c1f64f5692"
   },
   "outputs": [
    {
     "data": {
      "text/plain": [
       "array([[0.01      , 0.35776398],\n",
       "       [0.02      , 0.35776398],\n",
       "       [0.03      , 0.35776398],\n",
       "       [0.04      , 0.35776398],\n",
       "       [0.05      , 0.35776398],\n",
       "       [0.06      , 0.35776398],\n",
       "       [0.07      , 0.35776398],\n",
       "       [0.08      , 0.35776398],\n",
       "       [0.09      , 0.35776398],\n",
       "       [0.1       , 0.35776398],\n",
       "       [0.11      , 0.35776398],\n",
       "       [0.12      , 0.35776398],\n",
       "       [0.13      , 0.35776398],\n",
       "       [0.14      , 0.35776398],\n",
       "       [0.15      , 0.35776398],\n",
       "       [0.16      , 0.35776398],\n",
       "       [0.17      , 0.35776398],\n",
       "       [0.18      , 0.35776398],\n",
       "       [0.19      , 0.35776398],\n",
       "       [0.2       , 0.35776398],\n",
       "       [0.21      , 0.35776398],\n",
       "       [0.22      , 0.35776398],\n",
       "       [0.23      , 0.35776398],\n",
       "       [0.24      , 0.35776398],\n",
       "       [0.25      , 0.35776398],\n",
       "       [0.26      , 0.35776398],\n",
       "       [0.27      , 0.35776398],\n",
       "       [0.28      , 0.35776398],\n",
       "       [0.29      , 0.35776398],\n",
       "       [0.3       , 0.35776398],\n",
       "       [0.31      , 0.35776398],\n",
       "       [0.32      , 0.35776398],\n",
       "       [0.33      , 0.35776398],\n",
       "       [0.34      , 0.35776398],\n",
       "       [0.35      , 0.35776398],\n",
       "       [0.36      , 0.35776398],\n",
       "       [0.37      , 0.35776398],\n",
       "       [0.38      , 0.35776398],\n",
       "       [0.39      , 0.35776398],\n",
       "       [0.4       , 0.35776398],\n",
       "       [0.41      , 0.35776398],\n",
       "       [0.42      , 0.35776398],\n",
       "       [0.43      , 0.35776398],\n",
       "       [0.44      , 0.35776398],\n",
       "       [0.45      , 0.35776398],\n",
       "       [0.46      , 0.35776398],\n",
       "       [0.47      , 0.35776398],\n",
       "       [0.48      , 0.35776398],\n",
       "       [0.49      , 0.35776398],\n",
       "       [0.5       , 0.47129199],\n",
       "       [0.51      , 0.30946292],\n",
       "       [0.52      , 0.30946292],\n",
       "       [0.53      , 0.30946292],\n",
       "       [0.54      , 0.30946292],\n",
       "       [0.55      , 0.30946292],\n",
       "       [0.56      , 0.30946292],\n",
       "       [0.57      , 0.30946292],\n",
       "       [0.58      , 0.30946292],\n",
       "       [0.59      , 0.30946292],\n",
       "       [0.6       , 0.30946292],\n",
       "       [0.61      , 0.30946292],\n",
       "       [0.62      , 0.30946292],\n",
       "       [0.63      , 0.30946292],\n",
       "       [0.64      , 0.30946292],\n",
       "       [0.65      , 0.30946292],\n",
       "       [0.66      , 0.30946292],\n",
       "       [0.67      , 0.30946292],\n",
       "       [0.68      , 0.30946292],\n",
       "       [0.69      , 0.30946292],\n",
       "       [0.7       , 0.30946292],\n",
       "       [0.71      , 0.30946292],\n",
       "       [0.72      , 0.30946292],\n",
       "       [0.73      , 0.30946292],\n",
       "       [0.74      , 0.30946292],\n",
       "       [0.75      , 0.30946292],\n",
       "       [0.76      , 0.30946292],\n",
       "       [0.77      , 0.30946292],\n",
       "       [0.78      , 0.30946292],\n",
       "       [0.79      , 0.30946292],\n",
       "       [0.8       , 0.30946292],\n",
       "       [0.81      , 0.30946292],\n",
       "       [0.82      , 0.30946292],\n",
       "       [0.83      , 0.30946292],\n",
       "       [0.84      , 0.30946292],\n",
       "       [0.85      , 0.30946292],\n",
       "       [0.86      , 0.30946292],\n",
       "       [0.87      , 0.30946292],\n",
       "       [0.88      , 0.30946292],\n",
       "       [0.89      , 0.30946292],\n",
       "       [0.9       , 0.30946292],\n",
       "       [0.91      , 0.30946292],\n",
       "       [0.92      , 0.30946292],\n",
       "       [0.93      , 0.30946292],\n",
       "       [0.94      , 0.30946292],\n",
       "       [0.95      , 0.30946292],\n",
       "       [0.96      , 0.30946292],\n",
       "       [0.97      , 0.30946292],\n",
       "       [0.98      , 0.30946292],\n",
       "       [0.99      , 0.30946292],\n",
       "       [1.        , 0.30946292]])"
      ]
     },
     "execution_count": 203,
     "metadata": {
      "tags": []
     },
     "output_type": "execute_result"
    }
   ],
   "source": [
    "np.concatenate([np.array(custom_weight_list).reshape(-1,1), np.array(f1_sc).reshape(-1,1)], axis=1)"
   ]
  },
  {
   "cell_type": "code",
   "execution_count": null,
   "metadata": {
    "id": "IRrp_TOnbUpR"
   },
   "outputs": [],
   "source": []
  },
  {
   "cell_type": "code",
   "execution_count": 204,
   "metadata": {
    "id": "U3iPVbR2bU1C"
   },
   "outputs": [],
   "source": [
    "# Create imbalanced dataset by removing rows from target=0\n",
    "df0 = df[df['target']==0]\n",
    "df0_keep = df0.iloc[:60,:]\n",
    "\n",
    "df1 = df[df['target']==1]\n",
    "\n",
    "df_imbalanced = pd.concat([df0_keep, df1], axis=0)\n",
    "X = df_imbalanced.drop('target', axis=1).values\n",
    "y = df_imbalanced['target'].values"
   ]
  },
  {
   "cell_type": "code",
   "execution_count": 205,
   "metadata": {
    "colab": {
     "base_uri": "https://localhost:8080/"
    },
    "id": "W9XW8NV8bU5V",
    "outputId": "c8d07fa4-49b8-413b-f2d4-4b9e41a4cc04"
   },
   "outputs": [
    {
     "data": {
      "text/plain": [
       "1    0.745763\n",
       "0    0.254237\n",
       "Name: target, dtype: float64"
      ]
     },
     "execution_count": 205,
     "metadata": {
      "tags": []
     },
     "output_type": "execute_result"
    }
   ],
   "source": [
    "# Check proportion class imbalance \n",
    "# About 25% class index 0\n",
    "df_imbalanced['target'].value_counts(normalize=True)"
   ]
  },
  {
   "cell_type": "code",
   "execution_count": 206,
   "metadata": {
    "id": "wfEtifgEbVCH"
   },
   "outputs": [],
   "source": [
    "from sklearn import model_selection\n",
    "X_train, X_test, y_train, y_test = model_selection.train_test_split(X, y, test_size=0.2, random_state=4)"
   ]
  },
  {
   "cell_type": "code",
   "execution_count": 207,
   "metadata": {
    "id": "1N9dKsP4bVMh"
   },
   "outputs": [],
   "source": [
    "import numpy as np\n",
    "# Create custom_weight (for class index 0) hyperparamter list [0.01, 0.02,...,1.0]\n",
    "custom_weight_list = np.linspace(0.01, 1.0, 100).tolist()"
   ]
  },
  {
   "cell_type": "code",
   "execution_count": 208,
   "metadata": {
    "id": "99aVnR1DbVWC"
   },
   "outputs": [],
   "source": [
    "from sklearn import metrics\n",
    "\n",
    "f1_sc = []\n",
    "for i, wgt in enumerate(custom_weight_list):\n",
    "    # Obtain F1 score for various custom_weight (for class index 0) values\n",
    "    model = PGMHQC_gpu_dtype(rescale=0.5, n_copies=3, encoding='stereo', measure='hels', class_wgt='custom', custom_weight=wgt, n_splits=1, dtype=torch.float64).fit(X_train, y_train)\n",
    "    y_hat = model.predict(X_test)\n",
    "    f1_sc.append(metrics.f1_score(y_test, y_hat, average='weighted'))"
   ]
  },
  {
   "cell_type": "code",
   "execution_count": 209,
   "metadata": {
    "colab": {
     "base_uri": "https://localhost:8080/",
     "height": 296
    },
    "id": "S5pbTnylbVf5",
    "outputId": "e3ed31da-c710-4aa6-c255-a42d836b7579"
   },
   "outputs": [
    {
     "data": {
      "image/png": "[encoded data removed]",
      "text/plain": [
       "<Figure size 432x288 with 1 Axes>"
      ]
     },
     "metadata": {
      "needs_background": "light",
      "tags": []
     },
     "output_type": "display_data"
    }
   ],
   "source": [
    "import matplotlib.pyplot as plt\n",
    "\n",
    "# Plot F1 score vs. custom_weight (for class index 0) values\n",
    "plt.plot(custom_weight_list, f1_sc)\n",
    "plt.xlabel('custom_weight')\n",
    "plt.ylabel('F1 Score')\n",
    "plt.title('F1 Score vs. custom_weight (for class index 0)')\n",
    "plt.show()"
   ]
  },
  {
   "cell_type": "markdown",
   "metadata": {},
   "source": [
    "**Commentary:** \n",
    "- Since the class cardinality is 25%/75%, the dataset is imbalanced. \n",
    "- We can see the score performance is quite low at around the vicinity of the a-priori probability/custom_weight = 0.25. \n",
    "- Let's see if we can improve the score performance further by adjusting for the 'equiprobable' version (ie. adjusting for the 'class weight method'). After adjusting for this, the score performance decreased at around the vicinity of custom_weight = 0.5. This could happen because for this dataset, the dataset could be too highly imbalanced that the 'class weight method' does not help in improving the score performance.\n",
    "- The score performance is most optimal at around the vicinity of custom_weight = 0.25, compared to all other custom_weight values in the middle or far right (ie. the score performance is most optimal using the **'weighted'** version)."
   ]
  },
  {
   "cell_type": "code",
   "execution_count": 210,
   "metadata": {
    "colab": {
     "base_uri": "https://localhost:8080/"
    },
    "id": "KH7AA7YrbVms",
    "outputId": "9689db3a-33ed-4918-e80d-60b7394d4ffb"
   },
   "outputs": [
    {
     "data": {
      "text/plain": [
       "array([[0.01      , 0.6996124 ],\n",
       "       [0.02      , 0.6996124 ],\n",
       "       [0.03      , 0.6996124 ],\n",
       "       [0.04      , 0.6996124 ],\n",
       "       [0.05      , 0.6996124 ],\n",
       "       [0.06      , 0.6996124 ],\n",
       "       [0.07      , 0.6996124 ],\n",
       "       [0.08      , 0.6996124 ],\n",
       "       [0.09      , 0.6996124 ],\n",
       "       [0.1       , 0.6996124 ],\n",
       "       [0.11      , 0.6996124 ],\n",
       "       [0.12      , 0.6996124 ],\n",
       "       [0.13      , 0.6996124 ],\n",
       "       [0.14      , 0.6996124 ],\n",
       "       [0.15      , 0.6996124 ],\n",
       "       [0.16      , 0.6996124 ],\n",
       "       [0.17      , 0.6996124 ],\n",
       "       [0.18      , 0.6996124 ],\n",
       "       [0.19      , 0.6996124 ],\n",
       "       [0.2       , 0.6996124 ],\n",
       "       [0.21      , 0.6996124 ],\n",
       "       [0.22      , 0.6996124 ],\n",
       "       [0.23      , 0.6996124 ],\n",
       "       [0.24      , 0.6996124 ],\n",
       "       [0.25      , 0.6996124 ],\n",
       "       [0.26      , 0.6996124 ],\n",
       "       [0.27      , 0.6996124 ],\n",
       "       [0.28      , 0.6996124 ],\n",
       "       [0.29      , 0.6996124 ],\n",
       "       [0.3       , 0.6996124 ],\n",
       "       [0.31      , 0.6996124 ],\n",
       "       [0.32      , 0.6996124 ],\n",
       "       [0.33      , 0.6996124 ],\n",
       "       [0.34      , 0.6996124 ],\n",
       "       [0.35      , 0.6996124 ],\n",
       "       [0.36      , 0.6996124 ],\n",
       "       [0.37      , 0.6996124 ],\n",
       "       [0.38      , 0.6996124 ],\n",
       "       [0.39      , 0.6996124 ],\n",
       "       [0.4       , 0.6996124 ],\n",
       "       [0.41      , 0.6996124 ],\n",
       "       [0.42      , 0.6996124 ],\n",
       "       [0.43      , 0.6996124 ],\n",
       "       [0.44      , 0.6996124 ],\n",
       "       [0.45      , 0.6996124 ],\n",
       "       [0.46      , 0.6996124 ],\n",
       "       [0.47      , 0.6996124 ],\n",
       "       [0.48      , 0.6996124 ],\n",
       "       [0.49      , 0.6996124 ],\n",
       "       [0.5       , 0.45588235],\n",
       "       [0.51      , 0.07183908],\n",
       "       [0.52      , 0.07183908],\n",
       "       [0.53      , 0.07183908],\n",
       "       [0.54      , 0.07183908],\n",
       "       [0.55      , 0.07183908],\n",
       "       [0.56      , 0.07183908],\n",
       "       [0.57      , 0.07183908],\n",
       "       [0.58      , 0.07183908],\n",
       "       [0.59      , 0.07183908],\n",
       "       [0.6       , 0.07183908],\n",
       "       [0.61      , 0.07183908],\n",
       "       [0.62      , 0.07183908],\n",
       "       [0.63      , 0.07183908],\n",
       "       [0.64      , 0.07183908],\n",
       "       [0.65      , 0.07183908],\n",
       "       [0.66      , 0.07183908],\n",
       "       [0.67      , 0.07183908],\n",
       "       [0.68      , 0.07183908],\n",
       "       [0.69      , 0.07183908],\n",
       "       [0.7       , 0.07183908],\n",
       "       [0.71      , 0.07183908],\n",
       "       [0.72      , 0.07183908],\n",
       "       [0.73      , 0.07183908],\n",
       "       [0.74      , 0.07183908],\n",
       "       [0.75      , 0.07183908],\n",
       "       [0.76      , 0.07183908],\n",
       "       [0.77      , 0.07183908],\n",
       "       [0.78      , 0.07183908],\n",
       "       [0.79      , 0.07183908],\n",
       "       [0.8       , 0.07183908],\n",
       "       [0.81      , 0.07183908],\n",
       "       [0.82      , 0.07183908],\n",
       "       [0.83      , 0.07183908],\n",
       "       [0.84      , 0.07183908],\n",
       "       [0.85      , 0.07183908],\n",
       "       [0.86      , 0.07183908],\n",
       "       [0.87      , 0.07183908],\n",
       "       [0.88      , 0.07183908],\n",
       "       [0.89      , 0.07183908],\n",
       "       [0.9       , 0.07183908],\n",
       "       [0.91      , 0.07183908],\n",
       "       [0.92      , 0.07183908],\n",
       "       [0.93      , 0.07183908],\n",
       "       [0.94      , 0.07183908],\n",
       "       [0.95      , 0.07183908],\n",
       "       [0.96      , 0.07183908],\n",
       "       [0.97      , 0.07183908],\n",
       "       [0.98      , 0.07183908],\n",
       "       [0.99      , 0.07183908],\n",
       "       [1.        , 0.07183908]])"
      ]
     },
     "execution_count": 210,
     "metadata": {
      "tags": []
     },
     "output_type": "execute_result"
    }
   ],
   "source": [
    "np.concatenate([np.array(custom_weight_list).reshape(-1,1), np.array(f1_sc).reshape(-1,1)], axis=1)"
   ]
  },
  {
   "cell_type": "code",
   "execution_count": null,
   "metadata": {
    "id": "SIEurKVhbVwj"
   },
   "outputs": [],
   "source": []
  },
  {
   "cell_type": "code",
   "execution_count": 211,
   "metadata": {
    "id": "NWUhQiC1bV86"
   },
   "outputs": [],
   "source": [
    "# Create imbalanced dataset by removing rows from target=0\n",
    "df0 = df[df['target']==0]\n",
    "df0_keep = df0.iloc[:20,:]\n",
    "\n",
    "df1 = df[df['target']==1]\n",
    "\n",
    "df_imbalanced = pd.concat([df0_keep, df1], axis=0)\n",
    "X = df_imbalanced.drop('target', axis=1).values\n",
    "y = df_imbalanced['target'].values"
   ]
  },
  {
   "cell_type": "code",
   "execution_count": 212,
   "metadata": {
    "colab": {
     "base_uri": "https://localhost:8080/"
    },
    "id": "htgwapiUbWGF",
    "outputId": "c45df8da-47b8-4806-8e81-c1bf6b5351b8"
   },
   "outputs": [
    {
     "data": {
      "text/plain": [
       "1    0.897959\n",
       "0    0.102041\n",
       "Name: target, dtype: float64"
      ]
     },
     "execution_count": 212,
     "metadata": {
      "tags": []
     },
     "output_type": "execute_result"
    }
   ],
   "source": [
    "# Check proportion class imbalance \n",
    "# About 10% class index 0\n",
    "df_imbalanced['target'].value_counts(normalize=True)"
   ]
  },
  {
   "cell_type": "code",
   "execution_count": 213,
   "metadata": {
    "id": "kfafW5uhbWl9"
   },
   "outputs": [],
   "source": [
    "from sklearn import model_selection\n",
    "X_train, X_test, y_train, y_test = model_selection.train_test_split(X, y, test_size=0.2, random_state=4)"
   ]
  },
  {
   "cell_type": "code",
   "execution_count": 214,
   "metadata": {
    "id": "qIlgLCTwbWkj"
   },
   "outputs": [],
   "source": [
    "import numpy as np\n",
    "# Create custom_weight (for class index 0) hyperparamter list [0.01, 0.02,...,1.0]\n",
    "custom_weight_list = np.linspace(0.01, 1.0, 100).tolist()"
   ]
  },
  {
   "cell_type": "code",
   "execution_count": 215,
   "metadata": {
    "id": "Eohb1uhKbWik"
   },
   "outputs": [],
   "source": [
    "from sklearn import metrics\n",
    "\n",
    "f1_sc = []\n",
    "for i, wgt in enumerate(custom_weight_list):\n",
    "    # Obtain F1 score for various custom_weight (for class index 0) values\n",
    "    model = PGMHQC_gpu_dtype(rescale=0.5, n_copies=3, encoding='stereo', measure='hels', class_wgt='custom', custom_weight=wgt, n_splits=1, dtype=torch.float64).fit(X_train, y_train)\n",
    "    y_hat = model.predict(X_test)\n",
    "    f1_sc.append(metrics.f1_score(y_test, y_hat, average='weighted'))"
   ]
  },
  {
   "cell_type": "code",
   "execution_count": 216,
   "metadata": {
    "colab": {
     "base_uri": "https://localhost:8080/",
     "height": 296
    },
    "id": "jyxQIy8dbWd9",
    "outputId": "beac9420-a028-4fda-e3c2-740670a7f212"
   },
   "outputs": [
    {
     "data": {
      "image/png": "[encoded data removed]",
      "text/plain": [
       "<Figure size 432x288 with 1 Axes>"
      ]
     },
     "metadata": {
      "needs_background": "light",
      "tags": []
     },
     "output_type": "display_data"
    }
   ],
   "source": [
    "import matplotlib.pyplot as plt\n",
    "\n",
    "# Plot F1 score vs. custom_weight (for class index 0) values\n",
    "plt.plot(custom_weight_list, f1_sc)\n",
    "plt.xlabel('custom_weight')\n",
    "plt.ylabel('F1 Score')\n",
    "plt.title('F1 Score vs. custom_weight (for class index 0)')\n",
    "plt.show()"
   ]
  },
  {
   "cell_type": "markdown",
   "metadata": {},
   "source": [
    "**Commentary:** \n",
    "- Since the class cardinality is 10%/90%, the dataset is imbalanced. \n",
    "- We can see the score performance is quite low at around the vicinity of the a-priori probability/custom_weight = 0.1. \n",
    "- Let's see if we can improve the score performance further by adjusting for the 'equiprobable' version (ie. adjusting for the 'class weight method'). After adjusting for this, the score performance decreased at around the vicinity of custom_weight = 0.5. This could happen because for this dataset, the dataset could be too highly imbalanced that the 'class weight method' does not help in improving the score performance.\n",
    "- The score performance is most optimal at around the vicinity of custom_weight = 0.1, compared to all other custom_weight values in the middle or far right (ie. the score performance is most optimal using the **'weighted'** version)."
   ]
  },
  {
   "cell_type": "code",
   "execution_count": 217,
   "metadata": {
    "colab": {
     "base_uri": "https://localhost:8080/"
    },
    "id": "Pv9uUK83bWbb",
    "outputId": "1abbd122-94ff-4a86-9bba-93e524d29922"
   },
   "outputs": [
    {
     "data": {
      "text/plain": [
       "array([[0.01      , 0.81666667],\n",
       "       [0.02      , 0.81666667],\n",
       "       [0.03      , 0.81666667],\n",
       "       [0.04      , 0.81666667],\n",
       "       [0.05      , 0.81666667],\n",
       "       [0.06      , 0.81666667],\n",
       "       [0.07      , 0.81666667],\n",
       "       [0.08      , 0.81666667],\n",
       "       [0.09      , 0.81666667],\n",
       "       [0.1       , 0.81666667],\n",
       "       [0.11      , 0.81666667],\n",
       "       [0.12      , 0.81666667],\n",
       "       [0.13      , 0.81666667],\n",
       "       [0.14      , 0.81666667],\n",
       "       [0.15      , 0.81666667],\n",
       "       [0.16      , 0.81666667],\n",
       "       [0.17      , 0.81666667],\n",
       "       [0.18      , 0.81666667],\n",
       "       [0.19      , 0.81666667],\n",
       "       [0.2       , 0.81666667],\n",
       "       [0.21      , 0.81666667],\n",
       "       [0.22      , 0.81666667],\n",
       "       [0.23      , 0.81666667],\n",
       "       [0.24      , 0.81666667],\n",
       "       [0.25      , 0.81666667],\n",
       "       [0.26      , 0.81666667],\n",
       "       [0.27      , 0.81666667],\n",
       "       [0.28      , 0.81666667],\n",
       "       [0.29      , 0.81666667],\n",
       "       [0.3       , 0.81666667],\n",
       "       [0.31      , 0.81666667],\n",
       "       [0.32      , 0.81666667],\n",
       "       [0.33      , 0.81666667],\n",
       "       [0.34      , 0.81666667],\n",
       "       [0.35      , 0.81666667],\n",
       "       [0.36      , 0.81666667],\n",
       "       [0.37      , 0.81666667],\n",
       "       [0.38      , 0.81666667],\n",
       "       [0.39      , 0.81666667],\n",
       "       [0.4       , 0.81666667],\n",
       "       [0.41      , 0.81666667],\n",
       "       [0.42      , 0.81666667],\n",
       "       [0.43      , 0.81666667],\n",
       "       [0.44      , 0.81666667],\n",
       "       [0.45      , 0.81666667],\n",
       "       [0.46      , 0.81666667],\n",
       "       [0.47      , 0.81666667],\n",
       "       [0.48      , 0.81666667],\n",
       "       [0.49      , 0.81666667],\n",
       "       [0.5       , 0.4846873 ],\n",
       "       [0.51      , 0.02777778],\n",
       "       [0.52      , 0.02777778],\n",
       "       [0.53      , 0.02777778],\n",
       "       [0.54      , 0.02777778],\n",
       "       [0.55      , 0.02777778],\n",
       "       [0.56      , 0.02777778],\n",
       "       [0.57      , 0.02777778],\n",
       "       [0.58      , 0.02777778],\n",
       "       [0.59      , 0.02777778],\n",
       "       [0.6       , 0.02777778],\n",
       "       [0.61      , 0.02777778],\n",
       "       [0.62      , 0.02777778],\n",
       "       [0.63      , 0.02777778],\n",
       "       [0.64      , 0.02777778],\n",
       "       [0.65      , 0.02777778],\n",
       "       [0.66      , 0.02777778],\n",
       "       [0.67      , 0.02777778],\n",
       "       [0.68      , 0.02777778],\n",
       "       [0.69      , 0.02777778],\n",
       "       [0.7       , 0.02777778],\n",
       "       [0.71      , 0.02777778],\n",
       "       [0.72      , 0.02777778],\n",
       "       [0.73      , 0.02777778],\n",
       "       [0.74      , 0.02777778],\n",
       "       [0.75      , 0.02777778],\n",
       "       [0.76      , 0.02777778],\n",
       "       [0.77      , 0.02777778],\n",
       "       [0.78      , 0.02777778],\n",
       "       [0.79      , 0.02777778],\n",
       "       [0.8       , 0.02777778],\n",
       "       [0.81      , 0.02777778],\n",
       "       [0.82      , 0.02777778],\n",
       "       [0.83      , 0.02777778],\n",
       "       [0.84      , 0.02777778],\n",
       "       [0.85      , 0.02777778],\n",
       "       [0.86      , 0.02777778],\n",
       "       [0.87      , 0.02777778],\n",
       "       [0.88      , 0.02777778],\n",
       "       [0.89      , 0.02777778],\n",
       "       [0.9       , 0.02777778],\n",
       "       [0.91      , 0.02777778],\n",
       "       [0.92      , 0.02777778],\n",
       "       [0.93      , 0.02777778],\n",
       "       [0.94      , 0.02777778],\n",
       "       [0.95      , 0.02777778],\n",
       "       [0.96      , 0.02777778],\n",
       "       [0.97      , 0.02777778],\n",
       "       [0.98      , 0.02777778],\n",
       "       [0.99      , 0.02777778],\n",
       "       [1.        , 0.02777778]])"
      ]
     },
     "execution_count": 217,
     "metadata": {
      "tags": []
     },
     "output_type": "execute_result"
    }
   ],
   "source": [
    "np.concatenate([np.array(custom_weight_list).reshape(-1,1), np.array(f1_sc).reshape(-1,1)], axis=1)"
   ]
  },
  {
   "cell_type": "code",
   "execution_count": null,
   "metadata": {
    "id": "FE_4ghcxbWZE"
   },
   "outputs": [],
   "source": []
  },
  {
   "cell_type": "code",
   "execution_count": 218,
   "metadata": {
    "id": "rkiVqmEXbWXW"
   },
   "outputs": [],
   "source": [
    "# Create imbalanced dataset by removing rows from target=0\n",
    "df0 = df[df['target']==0]\n",
    "df0_keep = df0.iloc[:10,:]\n",
    "\n",
    "df1 = df[df['target']==1]\n",
    "\n",
    "df_imbalanced = pd.concat([df0_keep, df1], axis=0)\n",
    "X = df_imbalanced.drop('target', axis=1).values\n",
    "y = df_imbalanced['target'].values"
   ]
  },
  {
   "cell_type": "code",
   "execution_count": 219,
   "metadata": {
    "colab": {
     "base_uri": "https://localhost:8080/"
    },
    "id": "YKvkKko-bWUb",
    "outputId": "36388791-48a2-4e29-ec47-bf0e3263fdfe"
   },
   "outputs": [
    {
     "data": {
      "text/plain": [
       "1    0.946237\n",
       "0    0.053763\n",
       "Name: target, dtype: float64"
      ]
     },
     "execution_count": 219,
     "metadata": {
      "tags": []
     },
     "output_type": "execute_result"
    }
   ],
   "source": [
    "# Check proportion class imbalance\n",
    "# About 5% class index 0\n",
    "df_imbalanced['target'].value_counts(normalize=True)"
   ]
  },
  {
   "cell_type": "code",
   "execution_count": 220,
   "metadata": {
    "id": "SW6KeJFNbWRI"
   },
   "outputs": [],
   "source": [
    "from sklearn import model_selection\n",
    "X_train, X_test, y_train, y_test = model_selection.train_test_split(X, y, test_size=0.2, random_state=4)"
   ]
  },
  {
   "cell_type": "code",
   "execution_count": 221,
   "metadata": {
    "id": "RgdGbv4wbWO2"
   },
   "outputs": [],
   "source": [
    "import numpy as np\n",
    "# Create custom_weight (for class index 0) hyperparamter list [0.01, 0.02,...,1.0]\n",
    "custom_weight_list = np.linspace(0.01, 1.0, 100).tolist()"
   ]
  },
  {
   "cell_type": "code",
   "execution_count": 222,
   "metadata": {
    "id": "ZYiNWRJ2bWNz"
   },
   "outputs": [],
   "source": [
    "from sklearn import metrics\n",
    "\n",
    "f1_sc = []\n",
    "for i, wgt in enumerate(custom_weight_list):\n",
    "    # Obtain F1 score for various custom_weight (for class index 0) values\n",
    "    model = PGMHQC_gpu_dtype(rescale=0.5, n_copies=3, encoding='stereo', measure='hels', class_wgt='custom', custom_weight=wgt, n_splits=1, dtype=torch.float64).fit(X_train, y_train)\n",
    "    y_hat = model.predict(X_test)\n",
    "    f1_sc.append(metrics.f1_score(y_test, y_hat, average='weighted'))"
   ]
  },
  {
   "cell_type": "code",
   "execution_count": 223,
   "metadata": {
    "colab": {
     "base_uri": "https://localhost:8080/",
     "height": 296
    },
    "id": "iQcDsL_BbWMr",
    "outputId": "1f7609c1-4868-4541-d53b-91e4485e3baa"
   },
   "outputs": [
    {
     "data": {
      "image/png": "[encoded data removed]",
      "text/plain": [
       "<Figure size 432x288 with 1 Axes>"
      ]
     },
     "metadata": {
      "needs_background": "light",
      "tags": []
     },
     "output_type": "display_data"
    }
   ],
   "source": [
    "import matplotlib.pyplot as plt\n",
    "\n",
    "# Plot F1 score vs. custom_weight (for class index 0) values\n",
    "plt.plot(custom_weight_list, f1_sc)\n",
    "plt.xlabel('custom_weight')\n",
    "plt.ylabel('F1 Score')\n",
    "plt.title('F1 Score vs. custom_weight (for class index 0)')\n",
    "plt.show()"
   ]
  },
  {
   "cell_type": "markdown",
   "metadata": {},
   "source": [
    "**Commentary:** \n",
    "- Since the class cardinality is 5%/95%, the dataset is highly imbalanced. \n",
    "- We can see the score performance is quite high at around the vicinity of the a-priori probability/custom_weight = 0.05. \n",
    "- Let's see if we can improve the score performance further by adjusting for the 'equiprobable' version (ie. adjusting for the 'class weight method'). After adjusting for this, the score performance decreased at around the vicinity of custom_weight = 0.5. This could happen because for this dataset, the dataset could be too highly imbalanced that the 'class weight method' does not help in improving the score performance.\n",
    "- The score performance is most optimal at around the vicinity of custom_weight = 0.05, compared to all other custom_weight values in the middle or far right (ie. the score performance is most optimal using the **'weighted'** version)."
   ]
  },
  {
   "cell_type": "code",
   "execution_count": 224,
   "metadata": {
    "colab": {
     "base_uri": "https://localhost:8080/"
    },
    "id": "TUbyE1R5bWEm",
    "outputId": "37758369-7bbc-43fe-db42-238b0ea08e84"
   },
   "outputs": [
    {
     "data": {
      "text/plain": [
       "array([[0.01      , 0.92176387],\n",
       "       [0.02      , 0.92176387],\n",
       "       [0.03      , 0.92176387],\n",
       "       [0.04      , 0.92176387],\n",
       "       [0.05      , 0.92176387],\n",
       "       [0.06      , 0.92176387],\n",
       "       [0.07      , 0.92176387],\n",
       "       [0.08      , 0.92176387],\n",
       "       [0.09      , 0.92176387],\n",
       "       [0.1       , 0.92176387],\n",
       "       [0.11      , 0.92176387],\n",
       "       [0.12      , 0.92176387],\n",
       "       [0.13      , 0.92176387],\n",
       "       [0.14      , 0.92176387],\n",
       "       [0.15      , 0.92176387],\n",
       "       [0.16      , 0.92176387],\n",
       "       [0.17      , 0.92176387],\n",
       "       [0.18      , 0.92176387],\n",
       "       [0.19      , 0.92176387],\n",
       "       [0.2       , 0.92176387],\n",
       "       [0.21      , 0.92176387],\n",
       "       [0.22      , 0.92176387],\n",
       "       [0.23      , 0.92176387],\n",
       "       [0.24      , 0.92176387],\n",
       "       [0.25      , 0.92176387],\n",
       "       [0.26      , 0.92176387],\n",
       "       [0.27      , 0.92176387],\n",
       "       [0.28      , 0.92176387],\n",
       "       [0.29      , 0.92176387],\n",
       "       [0.3       , 0.92176387],\n",
       "       [0.31      , 0.92176387],\n",
       "       [0.32      , 0.92176387],\n",
       "       [0.33      , 0.92176387],\n",
       "       [0.34      , 0.92176387],\n",
       "       [0.35      , 0.92176387],\n",
       "       [0.36      , 0.92176387],\n",
       "       [0.37      , 0.92176387],\n",
       "       [0.38      , 0.92176387],\n",
       "       [0.39      , 0.92176387],\n",
       "       [0.4       , 0.92176387],\n",
       "       [0.41      , 0.92176387],\n",
       "       [0.42      , 0.92176387],\n",
       "       [0.43      , 0.92176387],\n",
       "       [0.44      , 0.92176387],\n",
       "       [0.45      , 0.92176387],\n",
       "       [0.46      , 0.92176387],\n",
       "       [0.47      , 0.92176387],\n",
       "       [0.48      , 0.92176387],\n",
       "       [0.49      , 0.92176387],\n",
       "       [0.5       , 0.56569659],\n",
       "       [0.51      , 0.00526316],\n",
       "       [0.52      , 0.00526316],\n",
       "       [0.53      , 0.00526316],\n",
       "       [0.54      , 0.00526316],\n",
       "       [0.55      , 0.00526316],\n",
       "       [0.56      , 0.00526316],\n",
       "       [0.57      , 0.00526316],\n",
       "       [0.58      , 0.00526316],\n",
       "       [0.59      , 0.00526316],\n",
       "       [0.6       , 0.00526316],\n",
       "       [0.61      , 0.00526316],\n",
       "       [0.62      , 0.00526316],\n",
       "       [0.63      , 0.00526316],\n",
       "       [0.64      , 0.00526316],\n",
       "       [0.65      , 0.00526316],\n",
       "       [0.66      , 0.00526316],\n",
       "       [0.67      , 0.00526316],\n",
       "       [0.68      , 0.00526316],\n",
       "       [0.69      , 0.00526316],\n",
       "       [0.7       , 0.00526316],\n",
       "       [0.71      , 0.00526316],\n",
       "       [0.72      , 0.00526316],\n",
       "       [0.73      , 0.00526316],\n",
       "       [0.74      , 0.00526316],\n",
       "       [0.75      , 0.00526316],\n",
       "       [0.76      , 0.00526316],\n",
       "       [0.77      , 0.00526316],\n",
       "       [0.78      , 0.00526316],\n",
       "       [0.79      , 0.00526316],\n",
       "       [0.8       , 0.00526316],\n",
       "       [0.81      , 0.00526316],\n",
       "       [0.82      , 0.00526316],\n",
       "       [0.83      , 0.00526316],\n",
       "       [0.84      , 0.00526316],\n",
       "       [0.85      , 0.00526316],\n",
       "       [0.86      , 0.00526316],\n",
       "       [0.87      , 0.00526316],\n",
       "       [0.88      , 0.00526316],\n",
       "       [0.89      , 0.00526316],\n",
       "       [0.9       , 0.00526316],\n",
       "       [0.91      , 0.00526316],\n",
       "       [0.92      , 0.00526316],\n",
       "       [0.93      , 0.00526316],\n",
       "       [0.94      , 0.00526316],\n",
       "       [0.95      , 0.00526316],\n",
       "       [0.96      , 0.00526316],\n",
       "       [0.97      , 0.00526316],\n",
       "       [0.98      , 0.00526316],\n",
       "       [0.99      , 0.00526316],\n",
       "       [1.        , 0.00526316]])"
      ]
     },
     "execution_count": 224,
     "metadata": {
      "tags": []
     },
     "output_type": "execute_result"
    }
   ],
   "source": [
    "np.concatenate([np.array(custom_weight_list).reshape(-1,1), np.array(f1_sc).reshape(-1,1)], axis=1)"
   ]
  },
  {
   "cell_type": "code",
   "execution_count": null,
   "metadata": {
    "id": "fniq__13bWBW"
   },
   "outputs": [],
   "source": []
  },
  {
   "cell_type": "code",
   "execution_count": 231,
   "metadata": {
    "id": "uVEXtd9RbV6O"
   },
   "outputs": [],
   "source": [
    "# Create imbalanced dataset by removing rows from target=0\n",
    "df0 = df[df['target']==0]\n",
    "df0_keep = df0.iloc[:4,:]\n",
    "\n",
    "df1 = df[df['target']==1]\n",
    "\n",
    "df_imbalanced = pd.concat([df0_keep, df1], axis=0)\n",
    "X = df_imbalanced.drop('target', axis=1).values\n",
    "y = df_imbalanced['target'].values"
   ]
  },
  {
   "cell_type": "code",
   "execution_count": 232,
   "metadata": {
    "colab": {
     "base_uri": "https://localhost:8080/"
    },
    "id": "8eq33yybbV4A",
    "outputId": "18e441c3-0fe2-4ce1-c7f0-756be52870f0"
   },
   "outputs": [
    {
     "data": {
      "text/plain": [
       "1    0.977778\n",
       "0    0.022222\n",
       "Name: target, dtype: float64"
      ]
     },
     "execution_count": 232,
     "metadata": {
      "tags": []
     },
     "output_type": "execute_result"
    }
   ],
   "source": [
    "# Check proportion class imbalance\n",
    "# About 2% class index 0\n",
    "df_imbalanced['target'].value_counts(normalize=True)"
   ]
  },
  {
   "cell_type": "code",
   "execution_count": 233,
   "metadata": {
    "id": "dwXYe27sbV29"
   },
   "outputs": [],
   "source": [
    "from sklearn import model_selection\n",
    "X_train, X_test, y_train, y_test = model_selection.train_test_split(X, y, test_size=0.2, random_state=4)"
   ]
  },
  {
   "cell_type": "code",
   "execution_count": 234,
   "metadata": {
    "id": "TOch2-WSbVuf"
   },
   "outputs": [],
   "source": [
    "import numpy as np\n",
    "# Create custom_weight (for class index 0) hyperparamter list [0.01, 0.02,...,1.0]\n",
    "custom_weight_list = np.linspace(0.01, 1.0, 100).tolist()"
   ]
  },
  {
   "cell_type": "code",
   "execution_count": 235,
   "metadata": {
    "id": "yVnYs7NfbVru"
   },
   "outputs": [],
   "source": [
    "from sklearn import metrics\n",
    "\n",
    "f1_sc = []\n",
    "for i, wgt in enumerate(custom_weight_list):\n",
    "    # Obtain F1 score for various custom_weight (for class index 0) values\n",
    "    model = PGMHQC_gpu_dtype(rescale=0.5, n_copies=3, encoding='stereo', measure='hels', class_wgt='custom', custom_weight=wgt, n_splits=1, dtype=torch.float64).fit(X_train, y_train)\n",
    "    y_hat = model.predict(X_test)\n",
    "    f1_sc.append(metrics.f1_score(y_test, y_hat, average='weighted'))"
   ]
  },
  {
   "cell_type": "code",
   "execution_count": 236,
   "metadata": {
    "colab": {
     "base_uri": "https://localhost:8080/",
     "height": 296
    },
    "id": "MpR8g73zbVkG",
    "outputId": "9d9fa2d5-f13a-44ad-a9f8-33f8c1440cbe"
   },
   "outputs": [
    {
     "data": {
      "image/png": "[encoded data removed]",
      "text/plain": [
       "<Figure size 432x288 with 1 Axes>"
      ]
     },
     "metadata": {
      "needs_background": "light",
      "tags": []
     },
     "output_type": "display_data"
    }
   ],
   "source": [
    "import matplotlib.pyplot as plt\n",
    "\n",
    "# Plot F1 score vs. custom_weight (for class index 0) values\n",
    "plt.plot(custom_weight_list, f1_sc)\n",
    "plt.xlabel('custom_weight')\n",
    "plt.ylabel('F1 Score')\n",
    "plt.title('F1 Score vs. custom_weight (for class index 0)')\n",
    "plt.show()"
   ]
  },
  {
   "cell_type": "markdown",
   "metadata": {},
   "source": [
    "**Commentary:** \n",
    "- Since the class cardinality is 2%/98%, the dataset is highly imbalanced. \n",
    "- We can see the score performance is quite high at around the vicinity of the a-priori probability/custom_weight = 0.02. \n",
    "- Let's see if we can improve the score performance further by adjusting for the 'equiprobable' version (ie. adjusting for the 'class weight method'). After adjusting for this, the score performance decreased at around the vicinity of custom_weight = 0.5. This could happen because for this dataset, the dataset could be too highly imbalanced that the 'class weight method' does not help in improving the score performance.\n",
    "- The score performance is most optimal at around the vicinity of custom_weight = 0.02, compared to all other custom_weight values in the middle or far right (ie. the score performance is most optimal using the **'weighted'** version)."
   ]
  },
  {
   "cell_type": "code",
   "execution_count": 237,
   "metadata": {
    "colab": {
     "base_uri": "https://localhost:8080/"
    },
    "id": "DJtvH0C3bVdb",
    "outputId": "1252452b-0962-44af-ef3e-40b753f8cb6a"
   },
   "outputs": [
    {
     "data": {
      "text/plain": [
       "array([[0.01      , 0.95852895],\n",
       "       [0.02      , 0.95852895],\n",
       "       [0.03      , 0.95852895],\n",
       "       [0.04      , 0.95852895],\n",
       "       [0.05      , 0.95852895],\n",
       "       [0.06      , 0.95852895],\n",
       "       [0.07      , 0.95852895],\n",
       "       [0.08      , 0.95852895],\n",
       "       [0.09      , 0.95852895],\n",
       "       [0.1       , 0.95852895],\n",
       "       [0.11      , 0.95852895],\n",
       "       [0.12      , 0.95852895],\n",
       "       [0.13      , 0.95852895],\n",
       "       [0.14      , 0.95852895],\n",
       "       [0.15      , 0.95852895],\n",
       "       [0.16      , 0.95852895],\n",
       "       [0.17      , 0.95852895],\n",
       "       [0.18      , 0.95852895],\n",
       "       [0.19      , 0.95852895],\n",
       "       [0.2       , 0.95852895],\n",
       "       [0.21      , 0.95852895],\n",
       "       [0.22      , 0.95852895],\n",
       "       [0.23      , 0.95852895],\n",
       "       [0.24      , 0.95852895],\n",
       "       [0.25      , 0.95852895],\n",
       "       [0.26      , 0.95852895],\n",
       "       [0.27      , 0.95852895],\n",
       "       [0.28      , 0.95852895],\n",
       "       [0.29      , 0.95852895],\n",
       "       [0.3       , 0.95852895],\n",
       "       [0.31      , 0.95852895],\n",
       "       [0.32      , 0.95852895],\n",
       "       [0.33      , 0.95852895],\n",
       "       [0.34      , 0.95852895],\n",
       "       [0.35      , 0.95852895],\n",
       "       [0.36      , 0.95852895],\n",
       "       [0.37      , 0.95852895],\n",
       "       [0.38      , 0.95852895],\n",
       "       [0.39      , 0.95852895],\n",
       "       [0.4       , 0.95852895],\n",
       "       [0.41      , 0.95852895],\n",
       "       [0.42      , 0.95852895],\n",
       "       [0.43      , 0.95852895],\n",
       "       [0.44      , 0.95852895],\n",
       "       [0.45      , 0.95852895],\n",
       "       [0.46      , 0.95852895],\n",
       "       [0.47      , 0.95852895],\n",
       "       [0.48      , 0.95852895],\n",
       "       [0.49      , 0.95852895],\n",
       "       [0.5       , 0.0015015 ],\n",
       "       [0.51      , 0.0015015 ],\n",
       "       [0.52      , 0.0015015 ],\n",
       "       [0.53      , 0.0015015 ],\n",
       "       [0.54      , 0.0015015 ],\n",
       "       [0.55      , 0.0015015 ],\n",
       "       [0.56      , 0.0015015 ],\n",
       "       [0.57      , 0.0015015 ],\n",
       "       [0.58      , 0.0015015 ],\n",
       "       [0.59      , 0.0015015 ],\n",
       "       [0.6       , 0.0015015 ],\n",
       "       [0.61      , 0.0015015 ],\n",
       "       [0.62      , 0.0015015 ],\n",
       "       [0.63      , 0.0015015 ],\n",
       "       [0.64      , 0.0015015 ],\n",
       "       [0.65      , 0.0015015 ],\n",
       "       [0.66      , 0.0015015 ],\n",
       "       [0.67      , 0.0015015 ],\n",
       "       [0.68      , 0.0015015 ],\n",
       "       [0.69      , 0.0015015 ],\n",
       "       [0.7       , 0.0015015 ],\n",
       "       [0.71      , 0.0015015 ],\n",
       "       [0.72      , 0.0015015 ],\n",
       "       [0.73      , 0.0015015 ],\n",
       "       [0.74      , 0.0015015 ],\n",
       "       [0.75      , 0.0015015 ],\n",
       "       [0.76      , 0.0015015 ],\n",
       "       [0.77      , 0.0015015 ],\n",
       "       [0.78      , 0.0015015 ],\n",
       "       [0.79      , 0.0015015 ],\n",
       "       [0.8       , 0.0015015 ],\n",
       "       [0.81      , 0.0015015 ],\n",
       "       [0.82      , 0.0015015 ],\n",
       "       [0.83      , 0.0015015 ],\n",
       "       [0.84      , 0.0015015 ],\n",
       "       [0.85      , 0.0015015 ],\n",
       "       [0.86      , 0.0015015 ],\n",
       "       [0.87      , 0.0015015 ],\n",
       "       [0.88      , 0.0015015 ],\n",
       "       [0.89      , 0.0015015 ],\n",
       "       [0.9       , 0.0015015 ],\n",
       "       [0.91      , 0.0015015 ],\n",
       "       [0.92      , 0.0015015 ],\n",
       "       [0.93      , 0.0015015 ],\n",
       "       [0.94      , 0.0015015 ],\n",
       "       [0.95      , 0.0015015 ],\n",
       "       [0.96      , 0.0015015 ],\n",
       "       [0.97      , 0.0015015 ],\n",
       "       [0.98      , 0.0015015 ],\n",
       "       [0.99      , 0.0015015 ],\n",
       "       [1.        , 0.0015015 ]])"
      ]
     },
     "execution_count": 237,
     "metadata": {
      "tags": []
     },
     "output_type": "execute_result"
    }
   ],
   "source": [
    "np.concatenate([np.array(custom_weight_list).reshape(-1,1), np.array(f1_sc).reshape(-1,1)], axis=1)"
   ]
  },
  {
   "cell_type": "code",
   "execution_count": null,
   "metadata": {
    "id": "b_yWhRHAbVce"
   },
   "outputs": [],
   "source": []
  }
 ],
 "metadata": {
  "accelerator": "GPU",
  "colab": {
   "name": "HQC - GPU - Colab - datatype - custom_weight.ipynb",
   "provenance": []
  },
  "kernelspec": {
   "display_name": "Python 3",
   "language": "python",
   "name": "python3"
  },
  "language_info": {
   "codemirror_mode": {
    "name": "ipython",
    "version": 3
   },
   "file_extension": ".py",
   "mimetype": "text/x-python",
   "name": "python",
   "nbconvert_exporter": "python",
   "pygments_lexer": "ipython3",
   "version": "3.7.6"
  }
 },
 "nbformat": 4,
 "nbformat_minor": 4
}
